{
 "cells": [
  {
   "cell_type": "code",
   "execution_count": 2,
   "metadata": {},
   "outputs": [],
   "source": [
    "sample=\"\"\"mxmxvkd kfcds sqjhc nhms (contains dairy, fish)\n",
    "trh fvjkl sbzzf mxmxvkd (contains dairy)\n",
    "sqjhc fvjkl (contains soy)\n",
    "sqjhc mxmxvkd sbzzf (contains fish)\"\"\""
   ]
  },
  {
   "cell_type": "code",
   "execution_count": 3,
   "metadata": {},
   "outputs": [
    {
     "data": {
      "text/plain": [
       "5"
      ]
     },
     "execution_count": 3,
     "metadata": {},
     "output_type": "execute_result"
    }
   ],
   "source": [
    "def parse_input(s):\n",
    "    for dish in s.split('\\n'):\n",
    "        yield parse_dish(dish)\n",
    "def parse_dish(dish):\n",
    "    ingredients_list, alergens_list = dish.split(' (contains ')\n",
    "    assert alergens_list[-1] == ')'\n",
    "    return set(ingredients_list.split(' ')), set(alergens_list[:-1].split(', '))\n",
    "\n",
    "def get_maybes(dishes):\n",
    "    maybe = {}\n",
    "    for ingredients, alergens in dishes:\n",
    "        for aler in alergens:\n",
    "            if aler not in maybe:\n",
    "                maybe[aler] = set(ingredients)\n",
    "                continue\n",
    "            if aler in maybe:\n",
    "                maybe[aler] &= ingredients\n",
    "    return maybe\n",
    "\n",
    "def not_in_maybes(maybes, dishes):\n",
    "    total_maybes = set()\n",
    "    for _v in maybes.values():\n",
    "        total_maybes |= _v\n",
    "    return [ing for ingredients, _ in dishes for ing in ingredients if ing not in total_maybes]\n",
    "\n",
    "def problem1(s):\n",
    "    dishes = list(parse_input(s))\n",
    "    maybes = get_maybes(dishes)\n",
    "    result = maybes\n",
    "    solution = not_in_maybes(maybes, dishes)\n",
    "    return len(solution)\n",
    "\n",
    "problem1(sample)"
   ]
  },
  {
   "cell_type": "code",
   "execution_count": 4,
   "metadata": {},
   "outputs": [
    {
     "data": {
      "text/plain": [
       "2061"
      ]
     },
     "execution_count": 4,
     "metadata": {},
     "output_type": "execute_result"
    }
   ],
   "source": [
    "problem1(my_in)"
   ]
  },
  {
   "cell_type": "code",
   "execution_count": 5,
   "metadata": {},
   "outputs": [
    {
     "name": "stdout",
     "output_type": "stream",
     "text": [
      "maybes:\t {'fish': {'sqjhc', 'mxmxvkd'}, 'dairy': {'mxmxvkd'}, 'soy': {'fvjkl', 'sqjhc'}}\n",
      "maybes:\t {'fish': {'sqjhc'}, 'dairy': set(), 'soy': {'fvjkl', 'sqjhc'}}\n",
      "ok:\t {'dairy': 'mxmxvkd', 'fish': 'sqjhc', 'soy': 'fvjkl'}\n",
      "Sorted alergens ['dairy', 'fish', 'soy']\n"
     ]
    },
    {
     "data": {
      "text/plain": [
       "'mxmxvkd,sqjhc,fvjkl'"
      ]
     },
     "execution_count": 5,
     "metadata": {},
     "output_type": "execute_result"
    }
   ],
   "source": [
    "def deduce_ingredients(maybe):\n",
    "    result = {}\n",
    "    rev_res = set()\n",
    "    while len(result) < len(maybe):\n",
    "        print('maybes:\\t', maybe)\n",
    "        for alergen, ingredients in maybe.items():\n",
    "            if len(ingredients) == 1 and alergen not in result:\n",
    "                ing = list(ingredients)[0]\n",
    "                result[alergen] = ing\n",
    "                rev_res.add(ing)\n",
    "                for k in maybe:\n",
    "                    maybe[k] = maybe[k] - {ing}\n",
    "    print('ok:\\t', result)\n",
    "    return result\n",
    "\n",
    "def sort_alergen(ing_by_alergen):\n",
    "    ks = sorted(ing_by_alergen)\n",
    "    print('Sorted alergens', ks)\n",
    "    return ','.join([ing_by_alergen[k] for k in ks])\n",
    "\n",
    "\n",
    "def problem2(s):\n",
    "    dishes = list(parse_input(s))\n",
    "    maybes = get_maybes(dishes)\n",
    "    solution = deduce_ingredients(maybes)\n",
    "    result = sort_alergen(solution)\n",
    "    return result\n",
    "\n",
    "problem2(sample)"
   ]
  },
  {
   "cell_type": "code",
   "execution_count": 6,
   "metadata": {},
   "outputs": [
    {
     "name": "stdout",
     "output_type": "stream",
     "text": [
      "maybes:\t {'shellfish': {'tgmzqjz'}, 'eggs': {'tgmzqjz', 'rffqhl', 'dglm'}, 'sesame': {'mfqgx', 'tgmzqjz', 'xvtrfz'}, 'dairy': {'mfqgx', 'cdqvp', 'tgmzqjz', 'xvtrfz'}, 'peanuts': {'rbpg', 'tgmzqjz', 'zhqjs'}, 'fish': {'mfqgx', 'tgmzqjz', 'zhqjs', 'xvtrfz'}, 'wheat': {'cdqvp', 'rffqhl'}, 'soy': {'mfqgx', 'tgmzqjz'}}\n",
      "maybes:\t {'shellfish': set(), 'eggs': {'rffqhl', 'dglm'}, 'sesame': {'xvtrfz'}, 'dairy': {'cdqvp', 'xvtrfz'}, 'peanuts': {'rbpg', 'zhqjs'}, 'fish': {'zhqjs', 'xvtrfz'}, 'wheat': {'cdqvp', 'rffqhl'}, 'soy': set()}\n",
      "maybes:\t {'shellfish': set(), 'eggs': {'dglm'}, 'sesame': set(), 'dairy': set(), 'peanuts': {'rbpg'}, 'fish': set(), 'wheat': set(), 'soy': set()}\n",
      "ok:\t {'shellfish': 'tgmzqjz', 'soy': 'mfqgx', 'sesame': 'xvtrfz', 'dairy': 'cdqvp', 'fish': 'zhqjs', 'wheat': 'rffqhl', 'eggs': 'dglm', 'peanuts': 'rbpg'}\n",
      "Sorted alergens ['dairy', 'eggs', 'fish', 'peanuts', 'sesame', 'shellfish', 'soy', 'wheat']\n"
     ]
    },
    {
     "data": {
      "text/plain": [
       "'cdqvp,dglm,zhqjs,rbpg,xvtrfz,tgmzqjz,mfqgx,rffqhl'"
      ]
     },
     "execution_count": 6,
     "metadata": {},
     "output_type": "execute_result"
    }
   ],
   "source": [
    "problem2(my_in)"
   ]
  },
  {
   "cell_type": "code",
   "execution_count": null,
   "metadata": {},
   "outputs": [],
   "source": []
  },
  {
   "cell_type": "code",
   "execution_count": null,
   "metadata": {},
   "outputs": [],
   "source": []
  },
  {
   "cell_type": "code",
   "execution_count": 1,
   "metadata": {},
   "outputs": [],
   "source": [
    "my_in=\"\"\"lnjzfq hnd jdlck shnvtq tlvj bnn gzjpxg pksjkpz bkvkccp znv hdbqg hnqpzm cfpsqd rffqhl rlv fjpr rbpg lrlld klbzzc mptb sznvt mllvt zjv ktcprd fhzpr vblq ngmb cqkccs hhpjqfk rnxj jhktrk pqg hztsxx zqfkjb lrxrsjrp kxxvt lbjfg plsd sxfxth zgmdk mcfb jxtbpl nctqgz sdrtq tfhjp ccdphz hfjft sdpdx gszzpgl qtkmgk tgmzqjz nfgzk hzxm cdqvp qjrt krfx rxclp qszlchlz vbfhhs dglm mxzhrd mcqgt qxfh nhsqm xvtrfz cslbb gfhmp zhqjs hsgmkncv (contains eggs, shellfish)\n",
    "jkqbsc bflsbb mjnqzx xvtrfz tjzqcgb krfx tgmzqjz fvpz zqfkjb rzrp cdqvp fmqlb qxqbb hngb sxfxth psxms lgs zd jxtbpl sznvt qjrt nhbdx scxzmgx mllvt sjlgfj rbjx hsgmkncv tlvj nzbld rffqhl ncxz nxrcth cqkccs vjk kmvgpg dglm pbdvt mptb mcfb frz dxlfpkb hdbqg lrxrsjrp kvtd ktpcp rnxj plcl rbglp ddgxsg cvrqbgr zgmdk rvm hzxm zhqjs xbvrgqp gzjpxg mfqgx fspmjgc gnkf lpqc hzslpf nhsqm qdxtm nfgzk vpbqp frvvb pqg (contains dairy, sesame)\n",
    "zsvzm thbfsz zpjdx hfjft rbglp lvdhg rzrp qxqbb hzxm nhsqm thqfl zvnjkgm qxfh bhnv ttfnnd tjzqcgb bkvkccp skkgh nctqgz tgmzqjz krfx dglm fmv lrxrsjrp hnqpzm fjpr rqvnvk cdnl rlv gmzpl xgzrz hhpjqfk jxtbpl hngb cslbb kvk cvrqbgr sdpdx kvtd zjv vgz ttfdmjnv pbdvt kmvgpg pqg mjnqzx jxp psxms mdg lnxqdncm tlvj plsd mxps clzb zhqjs ddkj ktpcp gszhdb lbm lbjfg tvr gxznsd cdqvp rbpg zbdlzp xbvrgqp mfqgx xvtrfz lgs zgmdk (contains peanuts, sesame)\n",
    "qvldd nkrhvj chdh hhpjqfk bflsbb gfhmp xpnmk dnclpnmq kvk tjzqcgb xnkg ktpcp bdjbp lpqc xrkkt vjk mfqgx vpbqp psxms vbfhhs thbfsz mcfb fmnsts sdrtq skbdq jxtbpl xcdkj rffqhl jhgs cdnl rbjx qgjqdn rbpg pbdvt shnvtq pgtnt cfpsqd cdqvp sznvt znv nhsqm frz tgmzqjz klbzzc lbm nxrcth rrmnnr xbjkxbt vgz zjv zqfkjb hzxm cdtk ngmb sdpdx scxzmgx tgppdvf fspmjgc nzbld xvtrfz jdlck mjslxsxx xz ktcprd qjrt qtkmgk fvpz fmqlb qxfh tvr hsgmkncv frvvb pksjkpz fjcfj lrxrsjrp zhqjs (contains sesame, peanuts)\n",
    "hsgmkncv ncxz gszzpgl tgppdvf jdlck xvtrfz jxtbpl lrxrsjrp fmv fhzpr dglm bhnv rkxjxfs nxrcth tgmzqjz rbpg mllvt hnd mptb zgmdk mfqgx htgcs tzgfjj gfhmp sxrzdfb lbm sxfxth zlzk shnvtq vbfhhs bnn mjnqzx hztsxx mxps ttfdmjnv fmqlb plsd zsvzm gzjpxg cdnl tlvj znbmd xbvrgqp lgs zjv bflsbb pqg fvpz qszlchlz mxzhrd qvldd gszhdb zhqjs fksdc rffqhl mdg lbjfg ktcprd ktpcp cslbb ddgxsg nmjncj lnxqdncm ngmb rnxj pfcxv znv gmzpl kxxvt hdbqg plcl (contains fish)\n",
    "cct mxzhrd hnqpzm nctqgz xvtrfz rbpg mjslxsxx cqkccs xnkg gzjpxg bflsbb plsd qdxtm xpnmk skbdq gszzpgl xbjkxbt rkxjxfs mfqgx cdqvp nxrcth nzbld tgppdvf nfgzk xgzrz hfjft fmqlb nkrhvj hzslpf rffqhl bbf plcl klbzzc mjnqzx fspmjgc tzvlh xnxgc skkgh cfpsqd clzb gqhzk tgmzqjz jhktrk jxp bzkq fjcfj kxxvt lnxqdncm dglm frz hnd lnjzfq gmzpl nltvv tlvj fjpr vblq nxvbhm hvdv thqfl tjzqcgb ngmb (contains eggs, wheat, dairy)\n",
    "dglm mcqgt zsvzm sdpdx bkvkccp tgmzqjz jdlck qszlchlz cvrqbgr fvpz qdxtm gszzpgl gzjpxg krfx hnqpzm dgvqf vjk xvtrfz qxfh frvvb jhktrk mtsnlbc tvr fmv xz lrlld hztsxx mxzhrd ktpcp vghn rbpg zbdlzp ktcprd sxfxth xrkkt rffqhl zbvhht qxqbb lvdhg tjzqcgb zhqjs thbfsz tkjs nhbdx nmjncj spdv mzxdl xcdkj klbzzc ddkj bmnrhnd hcp vshncx kvtd xnkg scxzmgx bbf hngb gfhmp nkrhvj cdqvp rlv hsgmkncv zd qjrt mptb mllvt zgmdk (contains wheat)\n",
    "kmvgpg sjlgfj rbpg szrp qgjqdn nxrcth fmv sdpdx hcp psxms dglm pqg cdqvp vshncx tphgnfx fjcfj kvk cvrqbgr vgz nkrhvj tfhjp lbm xgzrz hngb xnkg jhgs xvtrfz cqkccs xpnmk zqfkjb vblq hzxm rffqhl fjpr tvr pgtnt vjrr rbglp tgmzqjz mfqgx sdrtq gzjpxg clzb vvcqgp znbmd mjslxsxx lrxrsjrp xbjkxbt htgcs qszlchlz (contains shellfish, wheat, soy)\n",
    "plcl cdtk tvr tzgfjj mfqgx nkhgf zvnjkgm zbvhht thbfsz xpnmk tkjs qgjqdn xnxgc rffqhl hfjft jxp fcdg zsvzm rkxjxfs cdqvp szrp mxps mcqgt zgmdk fmv jxtbpl plsd chdh spdv nkrhvj rnxj shnvtq xnkg bhnv qdxtm rqvnvk vjrr hngb tgmzqjz rzrp cslbb vblq ngmb bdjbp dnclpnmq skbdq hnqpzm xgzrz dxlfpkb nxrcth lrxrsjrp gszzpgl cvrqbgr lrlld xvtrfz vghn vpbqp lbjfg zhqjs dglm rvm gmzpl scxzmgx lpbhxnr zlzk gzjpxg hsgmkncv nmjncj hcp (contains wheat, fish, sesame)\n",
    "mfqgx qdxtm rffqhl mjslxsxx clzb htgcs lnjzfq tzvlh lpqc hhpjqfk sjlgfj bhnv dglm dnclpnmq sxfxth rxclp fmv tzgfjj tgmzqjz lrxrsjrp cjx hztsxx tphgnfx mtsnlbc jkqbsc tvr fmqlb cdtk mzxdl fvpz frz bflsbb zjv pqg znv xbjkxbt nzbld xpnmk rzrp xvtrfz sznvt hzslpf prv jxp fspmjgc fmnsts hnqpzm qjrt gxznsd xcdkj zhqjs rbpg tjzqcgb mllvt (contains sesame, fish, shellfish)\n",
    "zvnjkgm dglm tzgfjj frz bmnrhnd vblq mfqgx hztsxx xnxgc rxclp ttfnnd nhbdx lvdhg zzjpb mdg qvmfxpr xnkg zpjdx pgtnt bzkq mptb bkvkccp spdv jhgs ddgxsg lbjfg znbmd qxfh qszlchlz cct dgvqf fksdc rbpg xvtrfz rnxj hcp bflsbb tgmzqjz gszhdb qtkmgk rffqhl rkxjxfs jdlck mcfb mjslxsxx cdqvp rzrp (contains wheat)\n",
    "kvtd xvtrfz lpqc tgmzqjz jdlck nltvv kxxvt lpbhxnr cct qgjqdn mjslxsxx hcp vvcqgp fhzpr sxrzdfb mdg psxms tkjs cdqvp skkgh qjrt zhqjs nhbdx tjzqcgb zlzk rffqhl mptb mllvt dglm mfqgx lnxqdncm hzxm rrmnnr clzb qvldd lnjzfq rzrp zsvzm lvdhg fspmjgc fjcfj cdnl bmnrhnd skbdq thqfl zbdlzp ngmb htgcs zgmdk bbf xpnmk chdh (contains eggs)\n",
    "bbf mjslxsxx ddgxsg cdqvp kq dgvqf tzgfjj nljmg hcp skbdq nkhgf zhqjs nzbld ccdphz lvdhg zlzk sxfxth nxrcth hdbqg vgz bnn vbfhhs qvldd tlvj nhsqm qxqbb tjzqcgb nfgzk pksjkpz hsgmkncv fhzpr bmnrhnd gqhzk frz gfhmp cslbb rzrp xcdkj zvnjkgm mzxdl rlv rnxj rqvnvk qszlchlz mfqgx mdg tgmzqjz zpjdx rffqhl cdnl sxrzdfb mtsnlbc nhbdx xvtrfz sjlgfj mptb klbzzc fmnsts dglm qtkmgk cct vjrr szrp vjk cfpsqd (contains soy)\n",
    "cslbb rvm zjv vjrr rbpg zbdlzp cvrqbgr tzgfjj rrmnnr mptb mfqgx vvcqgp bkvkccp hngb thqfl nfgzk lgs pqg xvtrfz ttfnnd sznvt cjx szrp shnvtq gszzpgl lvdhg xgzrz skbdq tphgnfx xnxgc ngmb lrxrsjrp rkxjxfs kq prv ccdphz bzkq dgvqf hdbqg bflsbb gszhdb zd sxfxth ncxz tfhjp xz pbdvt hsgmkncv sjlgfj dfjbgjq tgmzqjz lpbhxnr kvtd pgtnt hcp fmv cfpsqd krfx vblq hnd bbf bmnrhnd mllvt qszlchlz nltvv vbfhhs thbfsz plcl bnn rqvnvk jxtbpl hzslpf cdqvp nhsqm gnkf rffqhl zhqjs qxfh (contains wheat)\n",
    "cct xvtrfz nkhgf kvtd fmv tjzqcgb fhzpr vpbqp lnjzfq tzvlh ttfnnd hnd krfx fmnsts fmqlb ddkj kmvgpg fvpz plsd rrmnnr gnkf rffqhl rvm cfpsqd dnclpnmq xz lbm vvcqgp sjlgfj hzxm tkjs kq thqfl tgmzqjz kvk cdqvp bflsbb znv jhktrk prv pksjkpz vbfhhs mjslxsxx vjk mfqgx rlv qvmfxpr mcfb vblq thbfsz zhqjs nzbld lnxqdncm xgzrz rbjx qxfh cdtk fspmjgc zzjpb tphgnfx gxznsd nxvbhm xcdkj sdrtq rxclp rnxj qdxtm nmjncj htgcs lbjfg bdjbp nljmg zjv cslbb kxxvt mjnqzx szrp spdv lgs dglm xnkg nctqgz (contains eggs)\n",
    "hcp rffqhl mjslxsxx xbvrgqp vbfhhs lpbhxnr fcdg xvtrfz pgtnt tzvlh bkvkccp rbpg mfqgx dglm ktcprd cdqvp sznvt jhktrk krfx jkqbsc bhnv fmqlb vghn zgmdk tzgfjj hfjft sxrzdfb tgmzqjz cct jxp sxfxth nxrcth ngmb cslbb gqhzk zpjdx cfpsqd zjv nxvbhm rrmnnr rbglp thbfsz hngb hsgmkncv mtsnlbc hztsxx lrlld zzjpb qgjqdn hnd fvpz bdjbp xrkkt bzkq lgs ttfnnd lnjzfq nfgzk (contains shellfish, eggs)\n",
    "prv tlvj jdlck zhqjs gqhzk dfjbgjq tgppdvf clzb qvmfxpr pbdvt hnd xbjkxbt sxfxth qgjqdn kq frvvb rbglp cdqvp xpnmk nctqgz xnkg hsgmkncv chdh hhpjqfk rbpg gszhdb rvm frz cslbb cct lgs scxzmgx cqkccs ddgxsg tgmzqjz xrkkt thbfsz cdtk thqfl hdbqg rffqhl sxrzdfb mcqgt hztsxx cfpsqd plsd hzxm gnkf gzjpxg vbfhhs vpbqp lpqc plcl dglm ngmb ddkj qxfh lbjfg dxlfpkb ccdphz pksjkpz fjpr pgtnt mfqgx lnjzfq mjnqzx skbdq hnqpzm znbmd zbdlzp gszzpgl vshncx zpjdx zd zvnjkgm qvldd tfhjp nmjncj (contains eggs, wheat)\n",
    "kmvgpg frvvb mfqgx mdg dglm hdbqg rzrp shnvtq rbjx cqkccs nctqgz zqfkjb xvtrfz lrlld bhnv zlzk ktcprd fmqlb zhqjs xcdkj gxznsd mjnqzx fhzpr rrmnnr znv rkxjxfs vgz tfhjp dgvqf qvldd tzvlh mllvt nxvbhm bnn tgmzqjz lpqc jhktrk pqg kvk nhsqm ttfdmjnv mtsnlbc mcfb bflsbb cdtk zvnjkgm vvcqgp cdqvp skbdq rbpg vbfhhs tlvj vpbqp pgtnt scxzmgx tjzqcgb qxfh lrxrsjrp gqhzk (contains fish, peanuts, shellfish)\n",
    "rlv qjrt mcfb hngb pgtnt pksjkpz ncxz rbpg sdrtq thqfl zlzk zhqjs dglm znbmd lbjfg nkhgf hzxm tkjs rbjx lnxqdncm nhsqm vgz zjv cfpsqd lbm lvdhg qszlchlz jxtbpl gzjpxg tgmzqjz tzvlh xvtrfz hvdv rffqhl hzslpf hhpjqfk qvmfxpr prv jxp kvtd jhktrk cdtk skkgh mllvt lpqc tfhjp ktpcp zgmdk sxrzdfb dxlfpkb bflsbb kxxvt znv xnkg ttfdmjnv ttfnnd nfgzk tjzqcgb dfjbgjq mcqgt fksdc nzbld hsgmkncv qtkmgk jkqbsc ngmb gszhdb mptb plcl frvvb xpnmk fcdg fspmjgc hfjft tlvj rrmnnr fjpr xbvrgqp mjnqzx mfqgx mxps krfx bdjbp cdnl plsd hcp (contains fish, peanuts, eggs)\n",
    "mcfb hfjft hsgmkncv dxlfpkb fmqlb tzgfjj frz gfhmp ttfdmjnv bkvkccp kxxvt lrlld zlzk xrkkt cdtk lpqc pbdvt qvmfxpr lgs rffqhl mfqgx mllvt lrxrsjrp xvtrfz tkjs zpjdx vbfhhs xgzrz nhbdx fvpz xcdkj hnd mxzhrd pksjkpz zbdlzp cslbb cdqvp tfhjp ddgxsg zhqjs fhzpr lbm vpbqp dglm kq tgppdvf znbmd rbpg xz fcdg nltvv (contains wheat)\n",
    "dglm zhqjs lrlld cdnl ktcprd zjv scxzmgx lpbhxnr znbmd skkgh mllvt rbpg xpnmk znv rvm mfqgx gxznsd vpbqp rlv qszlchlz bbf cdqvp zqfkjb tjzqcgb jxtbpl xbvrgqp nctqgz ncxz cvrqbgr fvpz frvvb cslbb ngmb ttfnnd mzxdl kmvgpg kvk tkjs fjcfj tgppdvf gmzpl nhsqm prv dgvqf rffqhl ttfdmjnv fjpr gszzpgl xz tfhjp jhktrk nzbld kq rkxjxfs xrkkt ktpcp xnkg thqfl tgmzqjz tphgnfx bflsbb xbjkxbt cdtk mptb mxzhrd fhzpr xnxgc shnvtq (contains peanuts, wheat, shellfish)\n",
    "nltvv fhzpr mxps vblq tgmzqjz rbpg vjrr bdjbp jhktrk prv hnqpzm nljmg nxrcth hcp lrlld dfjbgjq tkjs xpnmk dglm lrxrsjrp kq fmnsts tvr gmzpl hhpjqfk fksdc jxp qvmfxpr ktcprd sxrzdfb cjx nctqgz vbfhhs fspmjgc gqhzk kxxvt lnxqdncm ktpcp fvpz cdqvp hnd jhgs cdtk qjrt mjnqzx tlvj mfqgx ncxz kvtd zpjdx dnclpnmq vjk nfgzk ddkj hngb pqg rrmnnr fcdg jdlck xnxgc qtkmgk gnkf cqkccs thbfsz sznvt xrkkt vgz psxms nmjncj xvtrfz rffqhl lpbhxnr (contains sesame)\n",
    "cdqvp tkjs plcl vgz mfqgx fcdg hsgmkncv prv cqkccs vpbqp ktpcp vjk lrxrsjrp mjslxsxx htgcs znbmd gszhdb qdxtm zzjpb plsd pfcxv sdpdx pgtnt chdh ddgxsg fjpr tgmzqjz mtsnlbc krfx hhpjqfk jkqbsc rffqhl fmnsts zd bbf hzxm nkrhvj hzslpf lgs spdv xcdkj bdjbp lnxqdncm sxfxth bmnrhnd qgjqdn fmv ktcprd mdg frvvb lbm dglm rrmnnr tvr zgmdk xz thbfsz dnclpnmq kvtd xvtrfz zhqjs jdlck nhsqm vshncx kmvgpg xgzrz rnxj nhbdx nltvv gqhzk gzjpxg (contains shellfish, fish)\n",
    "pbdvt gmzpl hnd nhsqm xbjkxbt znv mdg xcdkj nljmg nxrcth chdh cdtk pfcxv rnxj qjrt gfhmp cqkccs fmqlb cct lnjzfq hhpjqfk mfqgx cfpsqd znbmd dxlfpkb gnkf pqg nhbdx tgppdvf kxxvt rbpg rffqhl kmvgpg frz jhktrk skkgh xvtrfz xgzrz gszhdb lrxrsjrp fjcfj qszlchlz kvtd xnkg rkxjxfs hnqpzm qxqbb psxms mcqgt vblq sznvt szrp bnn vghn spdv mxzhrd ttfnnd hztsxx fcdg qgjqdn zbdlzp mcfb clzb cdqvp jxp sxfxth zd vvcqgp ktcprd plsd bzkq ncxz jxtbpl tgmzqjz nltvv zhqjs sdpdx (contains dairy, wheat)\n",
    "tfhjp tkjs nmjncj bflsbb dgvqf mfqgx tgmzqjz fjcfj cdqvp zlzk dglm krfx tgppdvf mdg skbdq rbpg ttfdmjnv rqvnvk pgtnt gfhmp rnxj nhbdx prv shnvtq gzjpxg psxms rxclp gmzpl mcqgt gxznsd fmqlb pksjkpz kvk plcl fspmjgc zhqjs spdv lrxrsjrp mcfb pbdvt tphgnfx vshncx rbjx xvtrfz lbjfg tvr mjslxsxx xrkkt vgz thbfsz fvpz cdnl qxqbb mzxdl cfpsqd (contains soy)\n",
    "dfjbgjq xbjkxbt hcp xgzrz lbm zhqjs nljmg vblq cqkccs ncxz szrp hvdv dglm qvmfxpr rrmnnr jhktrk vghn ccdphz qtkmgk znv mzxdl pgtnt zqfkjb lrlld gmzpl mfqgx ttfnnd ddgxsg ngmb bbf cdqvp hztsxx gnkf xpnmk lpbhxnr gszhdb bflsbb pbdvt cfpsqd jxtbpl clzb hnd jhgs gqhzk rkxjxfs skbdq nxvbhm sdpdx tjzqcgb rffqhl nkhgf fvpz tgmzqjz rqvnvk xnxgc rxclp pksjkpz tzgfjj mxps frvvb nctqgz cslbb zzjpb rbpg (contains shellfish)\n",
    "zbvhht hsgmkncv xpnmk scxzmgx tgmzqjz tjzqcgb ktpcp dglm lrlld mzxdl lvdhg xbjkxbt gqhzk nhbdx xz nltvv qgjqdn gfhmp hfjft ncxz zjv zqfkjb rffqhl gmzpl qszlchlz qdxtm cjx zpjdx vpbqp xvtrfz kq rbpg skkgh zhqjs jkqbsc vbfhhs bzkq fhzpr lnxqdncm gxznsd qtkmgk fjpr rvm sdpdx mfqgx kmvgpg qvldd shnvtq tphgnfx mcqgt mptb xcdkj rqvnvk fmqlb hhpjqfk tgppdvf jhgs clzb (contains soy, shellfish)\n",
    "plsd psxms lrxrsjrp vjrr znbmd chdh rffqhl tgppdvf xnkg mfqgx skbdq shnvtq gxznsd kvtd scxzmgx vpbqp rnxj xvtrfz bmnrhnd frz fmqlb ttfdmjnv zd fhzpr rzrp sxrzdfb szrp jdlck fcdg fjpr vbfhhs zgmdk zhqjs rbglp frvvb sdpdx vblq cslbb ddkj ncxz bbf bdjbp lnjzfq nkrhvj tgmzqjz cfpsqd jkqbsc kq xgzrz nzbld rxclp bnn hsgmkncv qgjqdn cvrqbgr dgvqf prv zjv skkgh dglm gszhdb sznvt tfhjp gqhzk cct vjk gnkf sjlgfj mcfb qxqbb jhgs nmjncj hvdv znv cdqvp rkxjxfs ccdphz qdxtm xnxgc nhsqm jxtbpl gfhmp (contains fish, soy)\n",
    "sxrzdfb kmvgpg fmv qtkmgk cdqvp pbdvt bnn jhgs mfqgx fjpr nxvbhm dfjbgjq tgmzqjz vghn nkrhvj scxzmgx sdpdx zd vjk pgtnt szrp frz zqfkjb cqkccs mllvt tjzqcgb mxzhrd dglm rffqhl vpbqp zpjdx vvcqgp rlv mxps xvtrfz rbpg htgcs hcp jxp zbvhht zjv nctqgz pfcxv qxqbb (contains eggs, wheat, soy)\n",
    "dnclpnmq bdjbp spdv dxlfpkb cct hzslpf zhqjs rffqhl xgzrz nhbdx cqkccs fjcfj fspmjgc klbzzc bzkq rbpg fjpr cdqvp xvtrfz sdpdx hsgmkncv gszhdb bbf tgmzqjz vjrr xcdkj vshncx skkgh gxznsd jxp tzgfjj mfqgx rnxj gfhmp ddkj gqhzk (contains sesame, wheat, shellfish)\n",
    "hcp bdjbp szrp sdpdx zqfkjb lnjzfq nkrhvj dgvqf klbzzc prv fmnsts tgmzqjz ccdphz mtsnlbc zvnjkgm thqfl rvm zbdlzp xbjkxbt clzb frvvb cdqvp dglm ktcprd vbfhhs dnclpnmq rbpg sxfxth rbglp nxvbhm zhqjs zbvhht znbmd pfcxv vgz rxclp vshncx cct fmv pksjkpz jkqbsc qjrt fjpr mjnqzx xvtrfz ncxz hdbqg kq nkhgf rzrp tlvj shnvtq nhbdx znv rbjx nfgzk fmqlb lrxrsjrp jxtbpl xnkg qvldd qvmfxpr cslbb hsgmkncv fspmjgc pbdvt mfqgx zpjdx chdh qszlchlz cqkccs fjcfj fhzpr rkxjxfs lgs lnxqdncm tphgnfx qxqbb xpnmk dxlfpkb zsvzm (contains fish, peanuts, dairy)\n",
    "pfcxv jdlck nltvv vgz vbfhhs frz xpnmk vghn ngmb xnxgc sjlgfj bhnv nmjncj kvk bzkq zd xvtrfz zbvhht gxznsd zzjpb gfhmp zvnjkgm fmnsts sxfxth zsvzm dnclpnmq xcdkj pgtnt frvvb rffqhl nxrcth pqg nkhgf nkrhvj hsgmkncv xrkkt tgmzqjz mxzhrd vshncx xbjkxbt qgjqdn rvm cdtk clzb gqhzk nctqgz ktpcp bbf jxp dglm cjx kmvgpg zhqjs kxxvt pksjkpz xnkg dfjbgjq thbfsz jxtbpl rqvnvk lpbhxnr vblq pbdvt nljmg qvldd gszzpgl hzxm ddgxsg thqfl fspmjgc gzjpxg nhsqm dgvqf kvtd cdqvp rbpg (contains wheat, peanuts, shellfish)\n",
    "vgz lnjzfq zhqjs zzjpb hzslpf hnqpzm gszhdb dglm bkvkccp nctqgz qtkmgk hsgmkncv lrlld nzbld zpjdx bbf dnclpnmq jhktrk qvmfxpr gfhmp rffqhl cdqvp rxclp sdrtq fhzpr xnkg vbfhhs rkxjxfs ncxz mfqgx sdpdx bflsbb rbpg tgmzqjz tkjs xpnmk gmzpl qxqbb fmnsts zqfkjb gxznsd mxps hfjft ttfdmjnv nkhgf frvvb (contains soy, shellfish)\n",
    "kvk vblq mxps rzrp nljmg vjk spdv qdxtm thqfl zgmdk ngmb gzjpxg cdqvp nhsqm mfqgx zqfkjb sxrzdfb vbfhhs tzvlh mcqgt rkxjxfs lrxrsjrp nxvbhm tfhjp hcp sjlgfj nzbld mllvt gxznsd tvr lpbhxnr cdtk mtsnlbc lbm cqkccs jxp xz ncxz nkhgf plsd kmvgpg tgmzqjz mxzhrd lnxqdncm mjnqzx plcl xvtrfz krfx bnn zd zpjdx qxfh rbpg scxzmgx fjpr pbdvt fksdc szrp zlzk hhpjqfk vjrr dfjbgjq shnvtq rffqhl nltvv zhqjs zbdlzp fvpz hdbqg bzkq htgcs kvtd vvcqgp jxtbpl lvdhg (contains wheat, peanuts)\n",
    "cvrqbgr pksjkpz dxlfpkb fjcfj rvm xvtrfz cdqvp nhbdx kmvgpg lrxrsjrp rffqhl pqg xbvrgqp lnjzfq zjv jkqbsc frz sxrzdfb xpnmk gzjpxg mfqgx tgmzqjz lgs lnxqdncm zhqjs znv thqfl zbvhht fjpr szrp tphgnfx cjx hfjft tkjs qjrt hvdv jxp nltvv fmv vghn rbpg zgmdk ccdphz (contains soy, fish, dairy)\n",
    "lrxrsjrp rbglp rkxjxfs krfx tvr xnxgc xvtrfz mfqgx thbfsz kvtd bflsbb rbpg prv sjlgfj plcl htgcs nxvbhm rbjx lbjfg qvmfxpr zhqjs gfhmp tfhjp dglm klbzzc xrkkt gxznsd xz lvdhg thqfl fmnsts rffqhl nkhgf spdv tgmzqjz ngmb jhgs cct lgs sdrtq ttfdmjnv nctqgz cvrqbgr fspmjgc mtsnlbc lpqc hzslpf nhsqm mzxdl nfgzk tkjs hzxm qgjqdn (contains sesame, eggs)\"\"\""
   ]
  },
  {
   "cell_type": "code",
   "execution_count": null,
   "metadata": {},
   "outputs": [],
   "source": []
  }
 ],
 "metadata": {
  "kernelspec": {
   "display_name": "Python 3",
   "language": "python",
   "name": "python3"
  },
  "language_info": {
   "codemirror_mode": {
    "name": "ipython",
    "version": 3
   },
   "file_extension": ".py",
   "mimetype": "text/x-python",
   "name": "python",
   "nbconvert_exporter": "python",
   "pygments_lexer": "ipython3",
   "version": "3.7.9"
  }
 },
 "nbformat": 4,
 "nbformat_minor": 4
}
