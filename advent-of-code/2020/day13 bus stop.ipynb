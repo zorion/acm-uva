{
 "cells": [
  {
   "cell_type": "code",
   "execution_count": 10,
   "metadata": {},
   "outputs": [],
   "source": [
    "sample=\"\"\"939\n",
    "7,13,x,x,59,x,31,19\n",
    "\"\"\"\n",
    "my_in = \"\"\"1001287\n",
    "13,x,x,x,x,x,x,37,x,x,x,x,x,461,x,x,x,x,x,x,x,x,x,x,x,x,x,17,x,x,x,x,19,x,x,x,x,x,x,x,x,x,29,x,739,x,x,x,x,x,x,x,x,x,41,x,x,x,x,x,x,x,x,x,x,x,x,23\n",
    "\"\"\""
   ]
  },
  {
   "cell_type": "code",
   "execution_count": 11,
   "metadata": {},
   "outputs": [],
   "source": [
    "def parse_input(s):\n",
    "    aux = s.split('\\n')\n",
    "    return (int(aux[0]),\n",
    "            [int(x) for x in aux[1].split(',') if x != 'x'])\n",
    "assert parse_input(sample) == (939, [7, 13, 59, 31, 19])"
   ]
  },
  {
   "cell_type": "code",
   "execution_count": 12,
   "metadata": {},
   "outputs": [
    {
     "name": "stdout",
     "output_type": "stream",
     "text": [
      "7 1 6\n",
      "13 3 10\n",
      "59 54 5\n",
      "31 9 22\n",
      "19 8 11\n",
      "7 1 6\n",
      "13 3 10\n",
      "59 54 5\n",
      "31 9 22\n",
      "19 8 11\n",
      "(59, 5)\n",
      "13 1 12\n",
      "37 30 7\n",
      "461 456 5\n",
      "17 4 13\n",
      "19 6 13\n",
      "29 4 25\n",
      "739 681 58\n",
      "41 26 15\n",
      "23 5 18\n",
      "(461, 5)\n"
     ]
    },
    {
     "data": {
      "text/plain": [
       "2305"
      ]
     },
     "execution_count": 12,
     "metadata": {},
     "output_type": "execute_result"
    }
   ],
   "source": [
    "def pick_bus1(time_start, bus_list):\n",
    "    min_time = 0\n",
    "    min_bus = None\n",
    "    for bus in bus_list:\n",
    "        w = time_start % bus\n",
    "        aux = bus - w\n",
    "        print(bus, w, aux)\n",
    "        if min_bus is None or min_time > aux:\n",
    "            min_bus = bus\n",
    "            min_time = aux\n",
    "    return min_bus, min_time\n",
    "assert pick_bus1(*list(parse_input(sample))) == (59, 5)\n",
    "\n",
    "def problem1(s):\n",
    "    aux = pick_bus1(*list(parse_input(s)))\n",
    "    print(aux)\n",
    "    return aux[0] * aux[1]\n",
    "assert problem1(sample) == 295\n",
    "\n",
    "problem1(my_in)"
   ]
  },
  {
   "cell_type": "code",
   "execution_count": 13,
   "metadata": {},
   "outputs": [
    {
     "data": {
      "text/plain": [
       "[(0, 13),\n",
       " (7, 37),\n",
       " (13, 461),\n",
       " (27, 17),\n",
       " (32, 19),\n",
       " (42, 29),\n",
       " (44, 739),\n",
       " (54, 41),\n",
       " (67, 23)]"
      ]
     },
     "execution_count": 13,
     "metadata": {},
     "output_type": "execute_result"
    }
   ],
   "source": [
    "def parse_input2(s):\n",
    "    aux = s.split('\\n')\n",
    "    return [(i, int(x)) for i, x in enumerate(aux[1].split(',')) if x != 'x']\n",
    "assert parse_input2(sample) == [(0, 7), (1, 13), (4, 59), (6, 31), (7, 19)]\n",
    "parse_input2(my_in)"
   ]
  },
  {
   "cell_type": "code",
   "execution_count": 39,
   "metadata": {},
   "outputs": [
    {
     "name": "stdout",
     "output_type": "stream",
     "text": [
      "[7, 13, 59, 31, 19] [0, -1, -4, -6, -7]\n"
     ]
    },
    {
     "data": {
      "text/plain": [
       "1068781"
      ]
     },
     "execution_count": 39,
     "metadata": {},
     "output_type": "execute_result"
    }
   ],
   "source": [
    "import time, math\n",
    "def find_x_brute_force(list_input, x=0):\n",
    "    \"\"\"Find x which (x + i) % n = 0 for i, n in list_input\"\"\"\n",
    "    init_time = time.time()\n",
    "    PRINT_ON = 100_000_000\n",
    "    while True:\n",
    "        if x % PRINT_ON == -1 % PRINT_ON:\n",
    "            print(x, time.time() - init_time)\n",
    "        for i, n in list_input:\n",
    "            if (x + i) % n != 0:\n",
    "                x += 1\n",
    "                break\n",
    "        else:\n",
    "            for i, n in list_input:\n",
    "                print(x, n, i, x%n)\n",
    "            return x\n",
    "def find_x(list_input):\n",
    "    \"\"\"Find x which x % n = 0 for i, n in list_input\n",
    "    x + i_0 % n_0 = 0 --> x = - i_0 (mod n_0)\n",
    "    x + i_1 % n_1 = 0 --> x = - i_1 (mod n_1)\n",
    "    ...\n",
    "    Teorema dels residus xinesos\n",
    "    \n",
    "    \"\"\"\n",
    "    a = []\n",
    "    n = []\n",
    "    for i, x in list_input:\n",
    "        n.append(x)\n",
    "        a.append(-i)\n",
    "    print(n, a)\n",
    "    return chinese_remainder(n, a)\n",
    "\n",
    "def mul_inv(a, b):\n",
    "    b0 = b\n",
    "    x0, x1 = 0, 1\n",
    "    if b == 1: return 1\n",
    "    while a > 1:\n",
    "        q = a // b\n",
    "        a, b = b, a%b\n",
    "        x0, x1 = x1 - q * x0, x0\n",
    "    if x1 < 0: x1 += b0\n",
    "    return x1\n",
    "from functools import reduce\n",
    "def chinese_remainder(n, a):\n",
    "    sum = 0\n",
    "    prod = reduce(get_mcm, n)\n",
    "    for n_i, a_i in zip(n, a):\n",
    "        p = prod // n_i\n",
    "        sum += a_i * mul_inv(p, n_i) * p\n",
    "    return sum % prod\n",
    "\n",
    "def get_mcm(a, b):\n",
    "    return a * b // math.gcd(a, b)\n",
    "    \n",
    "    \n",
    "find_x(parse_input2(sample))"
   ]
  },
  {
   "cell_type": "code",
   "execution_count": 40,
   "metadata": {},
   "outputs": [
    {
     "name": "stdout",
     "output_type": "stream",
     "text": [
      "[13, 37, 461, 17, 19, 29, 739, 41, 23] [0, -7, -13, -27, -32, -42, -44, -54, -67]\n"
     ]
    },
    {
     "data": {
      "text/plain": [
       "552612234243498"
      ]
     },
     "execution_count": 40,
     "metadata": {},
     "output_type": "execute_result"
    }
   ],
   "source": [
    "find_x(parse_input2(my_in))"
   ]
  },
  {
   "cell_type": "code",
   "execution_count": 41,
   "metadata": {},
   "outputs": [],
   "source": [
    "def get_meta_bus(bus1, bus2):\n",
    "    a0, n0 = bus1\n",
    "    a1, n1 = bus2\n",
    "    if n1 < n0:\n",
    "        print('invert, because n0 is bigger')\n",
    "        n0, n1 = n1, n0\n",
    "        a0, a1 = a1, a0\n",
    "    assert n1 >= n0\n",
    "    n = get_mcm(n0, n1)\n",
    "    a = - a1\n",
    "    while (a + a0) % n0 != 0:\n",
    "        a += n1\n",
    "        assert a < n\n",
    "    print('check both zero', (a+a0)%n0, (a+a1)%n1, a, n, a < n, bus1, bus2)\n",
    "    return a % n, n\n",
    "\n",
    "def find_x_my(listin):\n",
    "    result = listin[0]\n",
    "    for bus in listin:\n",
    "        result = get_meta_bus(bus, result)\n",
    "    for bus in listin:\n",
    "        print('Check bus', bus, (result[0] + bus[0]) % bus[1])\n",
    "    return result"
   ]
  },
  {
   "cell_type": "code",
   "execution_count": 42,
   "metadata": {},
   "outputs": [
    {
     "name": "stdout",
     "output_type": "stream",
     "text": [
      "check both zero 0 0 0 13 True (0, 13) (0, 13)\n",
      "invert, because n0 is bigger\n",
      "check both zero 0 0 104 481 True (7, 37) (0, 13)\n",
      "check both zero 0 0 101868 221741 True (13, 461) (104, 481)\n",
      "check both zero 0 0 2780765 3769597 True (27, 17) (101868, 221741)\n",
      "check both zero 0 0 12297623 71622343 True (32, 19) (2780765, 3769597)\n",
      "check both zero 0 0 990415179 2077047947 True (42, 29) (12297623, 71622343)\n",
      "check both zero 0 0 566043674352 1534938432833 True (44, 739) (990415179, 2077047947)\n",
      "check both zero 0 0 34737540280807 62932475746153 True (54, 41) (566043674352, 1534938432833)\n",
      "check both zero 0 0 1035114547403794 1447446942161519 True (67, 23) (34737540280807, 62932475746153)\n",
      "Check bus (0, 13) 0\n",
      "Check bus (7, 37) 14\n",
      "Check bus (13, 461) 0\n",
      "Check bus (27, 17) 3\n",
      "Check bus (32, 19) 0\n",
      "Check bus (42, 29) 26\n",
      "Check bus (44, 739) 0\n",
      "Check bus (54, 41) 26\n",
      "Check bus (67, 23) 0\n"
     ]
    },
    {
     "data": {
      "text/plain": [
       "(1035114547403794, 1447446942161519)"
      ]
     },
     "execution_count": 42,
     "metadata": {},
     "output_type": "execute_result"
    }
   ],
   "source": [
    "find_x_my(parse_input2(my_in))"
   ]
  },
  {
   "cell_type": "code",
   "execution_count": null,
   "metadata": {},
   "outputs": [],
   "source": []
  }
 ],
 "metadata": {
  "kernelspec": {
   "display_name": "Python 3",
   "language": "python",
   "name": "python3"
  },
  "language_info": {
   "codemirror_mode": {
    "name": "ipython",
    "version": 3
   },
   "file_extension": ".py",
   "mimetype": "text/x-python",
   "name": "python",
   "nbconvert_exporter": "python",
   "pygments_lexer": "ipython3",
   "version": "3.7.9"
  }
 },
 "nbformat": 4,
 "nbformat_minor": 4
}
