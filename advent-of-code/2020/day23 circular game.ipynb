{
 "cells": [
  {
   "cell_type": "code",
   "execution_count": 74,
   "metadata": {},
   "outputs": [
    {
     "name": "stdout",
     "output_type": "stream",
     "text": [
      "123456789 OK\n"
     ]
    }
   ],
   "source": [
    "sample = '389125467'\n",
    "my_in = '872495136'\n",
    "assert len(sample) == 9\n",
    "assert len(my_in) == 9\n",
    "for i in range(1,10):\n",
    "    print(i, end='')\n",
    "    assert str(i) in sample\n",
    "    assert str(i) in my_in\n",
    "print(' OK')"
   ]
  },
  {
   "cell_type": "code",
   "execution_count": null,
   "metadata": {},
   "outputs": [],
   "source": []
  },
  {
   "cell_type": "code",
   "execution_count": 101,
   "metadata": {},
   "outputs": [
    {
     "name": "stdout",
     "output_type": "stream",
     "text": [
      "Problem1 with 10 iterations: 92658374\n",
      "Problem1 with 100 iterations: 67384529\n",
      "Problem1 with 100 iterations: 27865934\n"
     ]
    }
   ],
   "source": [
    "def next_try(val, many=9):\n",
    "    return (val - 2) % many + 1\n",
    "assert next_try(9) == 8\n",
    "assert next_try(1) == 9\n",
    "assert next_try(3) == 2\n",
    "\n",
    "def next_value(current_value, excluded, many=9):\n",
    "    result = next_try(current_value, many)\n",
    "    while result in excluded:\n",
    "        result = next_try(result, many)\n",
    "    return result\n",
    "\n",
    "def parse_input(s):\n",
    "    return [int(i) for i in s]\n",
    "assert parse_input(sample) == [3, 8, 9, 1, 2, 5, 4, 6, 7]\n",
    "\n",
    "\n",
    "def makestep(cur_list, cur_pos):\n",
    "    cur_val = cur_list[cur_pos]\n",
    "    cur_list, next_values, cur_pos = get_values(cur_list, cur_pos, 3)\n",
    "    next_val = next_value(cur_val, next_values)\n",
    "    cur_list = add_after(cur_list, next_val, next_values, cur_pos)\n",
    "    cur_pos = [i for i, v in enumerate(cur_list) if v == cur_val][0]\n",
    "    return cur_list, (cur_pos + 1) % (len(cur_list))\n",
    "\n",
    "def get_values(cur_list, cur_pos, items):\n",
    "    return_pos = cur_pos\n",
    "    return_list = cur_list[:]\n",
    "    return_values = []\n",
    "    cur_pos += 1\n",
    "    for i in range(items):\n",
    "        if cur_pos == len(return_list):\n",
    "            cur_pos = 0\n",
    "        return_values.append(return_list.pop(cur_pos))\n",
    "        if i > len(cur_list):\n",
    "            return_pos -= 1\n",
    "    return return_list, return_values, return_pos\n",
    "\n",
    "def add_after(cur_list, next_val, next_values, cur_pos):\n",
    "    next_pos = [i for i, val in enumerate(cur_list) if val == next_val][0]\n",
    "    for i, val in enumerate(next_values, 1):\n",
    "        cur_list.insert(i+next_pos, val)\n",
    "    return cur_list\n",
    "\n",
    "def print_result(cur_list):\n",
    "    pos = [i for i,v in enumerate(cur_list) if v == 1][0]\n",
    "    str_list = [str(i) for i in cur_list[pos+1:] + cur_list[:pos]]\n",
    "    return ''.join(str_list)\n",
    "assert print_result([3, 2, 1]) == '32'\n",
    "assert print_result([1,2,3]) == '23'\n",
    "\n",
    "def problem1(s, iterations=10):\n",
    "    cur_list = parse_input(s)\n",
    "    cur_pos = 0\n",
    "    for i in range(iterations):\n",
    "        cur_list, cur_pos = makestep(cur_list, cur_pos)\n",
    "    result = print_result(cur_list)\n",
    "    print('Problem1 with', iterations, 'iterations:', result)\n",
    "    return result\n",
    "\n",
    "assert problem1(sample) == '92658374'\n",
    "assert problem1(sample, 100) == '67384529'\n",
    "assert problem1(my_in, 100) == '27865934'"
   ]
  },
  {
   "cell_type": "code",
   "execution_count": 104,
   "metadata": {},
   "outputs": [
    {
     "name": "stderr",
     "output_type": "stream",
     "text": [
      "100%|██████████| 10/10 [00:00<00:00, 7745.71it/s]\n",
      "100%|██████████| 10/10 [00:00<00:00, 23250.02it/s]\n",
      "100%|██████████| 100/100 [00:00<00:00, 107408.55it/s]\n",
      "100%|██████████| 100/100 [00:00<00:00, 138471.57it/s]\n",
      "100%|██████████| 1/1 [00:00<00:00, 2551.28it/s]\n",
      "100%|██████████| 10/10 [00:00<00:00, 9326.89it/s]\n",
      "100%|██████████| 100/100 [00:00<00:00, 178329.25it/s]\n",
      "100%|██████████| 100/100 [00:00<00:00, 89583.60it/s]"
     ]
    },
    {
     "name": "stdout",
     "output_type": "stream",
     "text": [
      "Game:3891254673\n",
      "9 2 6\n",
      "Game:8374192658\n",
      "Game:3891254673\n",
      "9 2 6\n",
      "Game:8374192658\n",
      "Game:3891254673\n",
      "6 7 3\n",
      "Game:1673845291\n",
      "Game:8724951368\n",
      "2 7 8\n",
      "Game:9341278659\n",
      "Game:389125467103\n",
      "5 4 6\n",
      "Game:289154671032\n",
      "5 4 6 7 10 3 2 8 9\n",
      "9 2 6\n",
      "6 7 3\n",
      "2 7 8\n"
     ]
    },
    {
     "name": "stderr",
     "output_type": "stream",
     "text": [
      "\n",
      "100%|██████████| 10000000/10000000 [00:24<00:00, 410253.88it/s]\n",
      "  1%|          | 50009/10000000 [00:00<00:19, 500089.28it/s]"
     ]
    },
    {
     "name": "stdout",
     "output_type": "stream",
     "text": [
      "934001 159792 508460\n"
     ]
    },
    {
     "name": "stderr",
     "output_type": "stream",
     "text": [
      "100%|██████████| 10000000/10000000 [00:23<00:00, 428575.24it/s]"
     ]
    },
    {
     "name": "stdout",
     "output_type": "stream",
     "text": [
      "267349 639000 239159\n"
     ]
    },
    {
     "name": "stderr",
     "output_type": "stream",
     "text": [
      "\n"
     ]
    }
   ],
   "source": [
    "import tqdm\n",
    "\n",
    "def parse_input2(s, max_num):\n",
    "    sinput = [int(i) for i in s]\n",
    "    data = {}\n",
    "    start = sinput.pop(0)\n",
    "    prev = start\n",
    "    for i in sinput + list(range(len(sinput) + 2, max_num + 1)):\n",
    "        data[prev] = i\n",
    "        prev = i\n",
    "    data[prev] = start\n",
    "    data['current'] = start\n",
    "    return data\n",
    "\n",
    "def run_step(data, many):\n",
    "    current_value = data['current']\n",
    "    aux = remove_values(data, current_value)\n",
    "    insert_to = next_value(current_value, aux, many)\n",
    "    insert_after(data, insert_to, aux)\n",
    "    data['current'] = data[data['current']]\n",
    "    return\n",
    "\n",
    "def remove_values(data, position):\n",
    "    one = data[position]\n",
    "    two = data[one]\n",
    "    three = data[two]\n",
    "    four = data[three]\n",
    "    five = data[four]\n",
    "    data[position] = four  # remove one, two and three\n",
    "    return [one, two, three]\n",
    "\n",
    "def insert_after(data, position, values):\n",
    "    aux = data[position]\n",
    "    data[position] = values[0]\n",
    "    data[values[2]] = aux\n",
    "    return\n",
    "\n",
    "def print_game(data):\n",
    "    seen = set()\n",
    "    n = data['current']\n",
    "    print('Game:', end='')\n",
    "    while n not in seen:\n",
    "        seen.add(n)\n",
    "        print(n, end='')\n",
    "        n = data[n]\n",
    "    print(n)\n",
    "    return\n",
    "\n",
    "def print_problem1(data):\n",
    "    n = 1\n",
    "    seen = set()\n",
    "    result = []\n",
    "    while n not in seen:\n",
    "        seen.add(n)\n",
    "        n = data[n]\n",
    "        result.append(n)\n",
    "    return ' '.join([str(i) for i in result if i != 1])\n",
    "\n",
    "def problem2(s, iterations=10, max_num=9):\n",
    "    game = parse_input2(s, max_num)\n",
    "    if PRINT:\n",
    "        print_game(game)\n",
    "    for i in tqdm.tqdm(range(iterations)):\n",
    "        run_step(game, max_num)\n",
    "    one = game[1]\n",
    "    one_1 = game[one]\n",
    "    one_2 = game[one_1]\n",
    "    print(one, one_1, one_2)\n",
    "    if PRINT:\n",
    "        print_game(game)\n",
    "        return print_problem1(game)\n",
    "    return one_1 * one\n",
    "PRINT = True\n",
    "\n",
    "problem2(sample) # 9,2,6\n",
    "assert problem2(sample) == '9 2 6 5 8 3 7 4', problem2(sample)\n",
    "assert problem2(sample, 100) == '6 7 3 8 4 5 2 9', problem2(sample, 100)\n",
    "assert problem2(my_in, 100) == '2 7 8 6 5 9 3 4'\n",
    "print(problem2(sample, 1, 10))\n",
    "\n",
    "PRINT = False\n",
    "assert problem2(sample) == 9 * 2\n",
    "assert problem2(sample, 100) == 6 * 7\n",
    "assert problem2(my_in, 100) == 2 * 7\n",
    "test = problem2(sample, iterations=10_000_000, max_num=1_000_000)\n",
    "assert test == 149245887792, test\n",
    "assert problem2(my_in, 10_000_000, max_num=1_000_000) == 170836011000"
   ]
  },
  {
   "cell_type": "code",
   "execution_count": 103,
   "metadata": {},
   "outputs": [
    {
     "name": "stderr",
     "output_type": "stream",
     "text": [
      "100%|██████████| 10000000/10000000 [00:23<00:00, 434110.06it/s]\n"
     ]
    },
    {
     "name": "stdout",
     "output_type": "stream",
     "text": [
      "267349 639000 239159\n"
     ]
    },
    {
     "data": {
      "text/plain": [
       "170836011000"
      ]
     },
     "execution_count": 103,
     "metadata": {},
     "output_type": "execute_result"
    }
   ],
   "source": [
    "problem2(my_in, 10_000_000, max_num=1_000_000)"
   ]
  },
  {
   "cell_type": "code",
   "execution_count": null,
   "metadata": {},
   "outputs": [],
   "source": []
  }
 ],
 "metadata": {
  "kernelspec": {
   "display_name": "Python 3",
   "language": "python",
   "name": "python3"
  },
  "language_info": {
   "codemirror_mode": {
    "name": "ipython",
    "version": 3
   },
   "file_extension": ".py",
   "mimetype": "text/x-python",
   "name": "python",
   "nbconvert_exporter": "python",
   "pygments_lexer": "ipython3",
   "version": "3.7.9"
  }
 },
 "nbformat": 4,
 "nbformat_minor": 4
}
