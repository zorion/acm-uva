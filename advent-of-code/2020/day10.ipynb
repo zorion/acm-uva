{
 "cells": [
  {
   "cell_type": "code",
   "execution_count": 1,
   "metadata": {},
   "outputs": [],
   "source": [
    "sample1 = \"\"\"16\n",
    "10\n",
    "15\n",
    "5\n",
    "1\n",
    "11\n",
    "7\n",
    "19\n",
    "6\n",
    "12\n",
    "4\n",
    "\"\"\"\n",
    "sample2 = \"\"\"28\n",
    "33\n",
    "18\n",
    "42\n",
    "31\n",
    "14\n",
    "46\n",
    "20\n",
    "48\n",
    "47\n",
    "24\n",
    "23\n",
    "49\n",
    "45\n",
    "19\n",
    "38\n",
    "39\n",
    "11\n",
    "1\n",
    "32\n",
    "25\n",
    "35\n",
    "8\n",
    "17\n",
    "7\n",
    "9\n",
    "4\n",
    "2\n",
    "34\n",
    "10\n",
    "3\n",
    "\"\"\""
   ]
  },
  {
   "cell_type": "code",
   "execution_count": null,
   "metadata": {},
   "outputs": [],
   "source": []
  },
  {
   "cell_type": "code",
   "execution_count": 2,
   "metadata": {},
   "outputs": [
    {
     "data": {
      "text/plain": [
       "[16, 10, 15, 5, 1, 11, 7, 19, 6, 12, 4]"
      ]
     },
     "execution_count": 2,
     "metadata": {},
     "output_type": "execute_result"
    }
   ],
   "source": [
    "def parse_input(x):\n",
    "    return [int(i) for i in x.split('\\n') if i]\n",
    "parse_input(sample1)"
   ]
  },
  {
   "cell_type": "code",
   "execution_count": 7,
   "metadata": {},
   "outputs": [
    {
     "name": "stdout",
     "output_type": "stream",
     "text": [
      "({1: 7, 3: 5}, 35)\n",
      "({1: 22, 3: 10}, 220)\n",
      "({1: 71, 3: 29}, 2059)\n"
     ]
    }
   ],
   "source": [
    "def get_jumps(x):\n",
    "    l = sorted(parse_input(x))\n",
    "    result = {1:0, 3:1}\n",
    "    for i, j in enumerate(l):\n",
    "        if i == 0:\n",
    "            pre = 0\n",
    "        else:\n",
    "            pre = l[i-1]\n",
    "        result[j-pre] += 1\n",
    "    return result, result[1] * result[3]\n",
    "print(get_jumps(sample1))\n",
    "print(get_jumps(sample2))\n",
    "print(get_jumps(my_in))"
   ]
  },
  {
   "cell_type": "code",
   "execution_count": 19,
   "metadata": {},
   "outputs": [
    {
     "name": "stdout",
     "output_type": "stream",
     "text": [
      "Max: 19 Len: 11\n",
      "  Result problem2: 8\n",
      "Max: 49 Len: 31\n",
      "  Result problem2: 19208\n",
      "Max: 155 Len: 99\n",
      "  Result problem2: 86812553324672\n"
     ]
    },
    {
     "data": {
      "text/plain": [
       "86812553324672"
      ]
     },
     "execution_count": 19,
     "metadata": {},
     "output_type": "execute_result"
    }
   ],
   "source": [
    "def num_ways(x):\n",
    "    s = set(parse_input(x))\n",
    "    ways = {0: 1, -1: 0, -2:0}\n",
    "    maxs = max(s)\n",
    "    print('Max:', maxs, 'Len:', len(s))\n",
    "    for i in range(1, maxs+1):\n",
    "        if i not in s:\n",
    "            ways[i] = 0\n",
    "        else:\n",
    "            ways[i] = ways[i-1] + ways[i-2] + ways[i-3]\n",
    "    print('  Result problem2:', ways[maxs])\n",
    "    return ways[maxs]\n",
    "                \n",
    "num_ways(sample1)\n",
    "num_ways(sample2)\n",
    "num_ways(my_in)"
   ]
  },
  {
   "cell_type": "code",
   "execution_count": null,
   "metadata": {},
   "outputs": [],
   "source": []
  },
  {
   "cell_type": "code",
   "execution_count": 6,
   "metadata": {},
   "outputs": [],
   "source": [
    "my_in = \"\"\"77\n",
    "58\n",
    "25\n",
    "92\n",
    "14\n",
    "154\n",
    "105\n",
    "112\n",
    "147\n",
    "63\n",
    "84\n",
    "109\n",
    "24\n",
    "129\n",
    "49\n",
    "102\n",
    "130\n",
    "128\n",
    "134\n",
    "88\n",
    "95\n",
    "70\n",
    "80\n",
    "4\n",
    "153\n",
    "17\n",
    "145\n",
    "122\n",
    "39\n",
    "117\n",
    "93\n",
    "65\n",
    "3\n",
    "2\n",
    "139\n",
    "101\n",
    "148\n",
    "37\n",
    "27\n",
    "1\n",
    "87\n",
    "64\n",
    "23\n",
    "59\n",
    "42\n",
    "146\n",
    "43\n",
    "151\n",
    "116\n",
    "46\n",
    "115\n",
    "118\n",
    "131\n",
    "94\n",
    "19\n",
    "33\n",
    "12\n",
    "107\n",
    "10\n",
    "7\n",
    "73\n",
    "78\n",
    "53\n",
    "11\n",
    "135\n",
    "79\n",
    "60\n",
    "32\n",
    "141\n",
    "31\n",
    "140\n",
    "98\n",
    "136\n",
    "72\n",
    "38\n",
    "152\n",
    "30\n",
    "74\n",
    "106\n",
    "50\n",
    "13\n",
    "26\n",
    "155\n",
    "67\n",
    "20\n",
    "66\n",
    "91\n",
    "56\n",
    "34\n",
    "125\n",
    "52\n",
    "51\n",
    "18\n",
    "108\n",
    "57\n",
    "81\n",
    "119\n",
    "71\n",
    "144\n",
    "\"\"\""
   ]
  },
  {
   "cell_type": "code",
   "execution_count": null,
   "metadata": {},
   "outputs": [],
   "source": []
  }
 ],
 "metadata": {
  "kernelspec": {
   "display_name": "Python 3",
   "language": "python",
   "name": "python3"
  },
  "language_info": {
   "codemirror_mode": {
    "name": "ipython",
    "version": 3
   },
   "file_extension": ".py",
   "mimetype": "text/x-python",
   "name": "python",
   "nbconvert_exporter": "python",
   "pygments_lexer": "ipython3",
   "version": "3.7.9"
  }
 },
 "nbformat": 4,
 "nbformat_minor": 4
}
