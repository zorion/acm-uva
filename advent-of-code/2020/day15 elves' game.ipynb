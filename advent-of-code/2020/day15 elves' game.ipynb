{
 "cells": [
  {
   "cell_type": "code",
   "execution_count": 1,
   "metadata": {},
   "outputs": [],
   "source": [
    "samples = [\n",
    "    ('0,3,6', 436),\n",
    "    ('1,3,2', 1),\n",
    "    ('2,1,3', 10),\n",
    "    ('1,2,3', 27),\n",
    "    ('2,3,1', 78),\n",
    "    ('3,2,1', 438),\n",
    "    ('3,1,2', 1836),\n",
    "]\n",
    "my_in = '6,3,15,13,1,0'"
   ]
  },
  {
   "cell_type": "code",
   "execution_count": 48,
   "metadata": {},
   "outputs": [
    {
     "data": {
      "text/plain": [
       "1"
      ]
     },
     "execution_count": 48,
     "metadata": {},
     "output_type": "execute_result"
    }
   ],
   "source": [
    "def parse(s):\n",
    "    return [int(x) for x in s.split(',')]\n",
    "\n",
    "def play(s, end=2020):\n",
    "    init_list = parse(s)\n",
    "    last_seen = {}\n",
    "    previous_seen = 0\n",
    "    last_last_seen = {}\n",
    "\n",
    "    # Initialization\n",
    "    for turn, v in enumerate(init_list, 1):\n",
    "        assert v not in last_seen\n",
    "        last_seen[v] = turn\n",
    "        previous_seen = v\n",
    "        #print(previous_seen, turn)\n",
    "\n",
    "    # Next turns...\n",
    "    while turn < end:\n",
    "        #print(last_seen, end=' ---> ')\n",
    "        if previous_seen in last_seen:\n",
    "            aux = last_seen[previous_seen]\n",
    "            last_seen[previous_seen] = turn\n",
    "            previous_seen = turn - aux\n",
    "            last_last_seen[previous_seen] = aux\n",
    "        else:\n",
    "            last_seen[previous_seen] = turn\n",
    "            previous_seen = 0\n",
    "        turn += 1\n",
    "        #print(last_seen, previous_seen, turn)\n",
    "    return previous_seen\n",
    "for a, b in samples:\n",
    "    assert play(a) == b\n",
    "play(samples[0][0], 7)"
   ]
  },
  {
   "cell_type": "code",
   "execution_count": 50,
   "metadata": {},
   "outputs": [
    {
     "data": {
      "text/plain": [
       "700"
      ]
     },
     "execution_count": 50,
     "metadata": {},
     "output_type": "execute_result"
    }
   ],
   "source": [
    "play(my_in)"
   ]
  },
  {
   "cell_type": "code",
   "execution_count": 52,
   "metadata": {},
   "outputs": [
    {
     "name": "stdout",
     "output_type": "stream",
     "text": [
      "Result: 51358 \n",
      "Time: 16.97823691368103\n"
     ]
    }
   ],
   "source": [
    "import time\n",
    "start = time.time()\n",
    "result = play(my_in, 30000000)\n",
    "print('Result:', result, \"\\nTime:\", time.time() - start)"
   ]
  },
  {
   "cell_type": "code",
   "execution_count": null,
   "metadata": {},
   "outputs": [],
   "source": []
  }
 ],
 "metadata": {
  "kernelspec": {
   "display_name": "Python 3",
   "language": "python",
   "name": "python3"
  },
  "language_info": {
   "codemirror_mode": {
    "name": "ipython",
    "version": 3
   },
   "file_extension": ".py",
   "mimetype": "text/x-python",
   "name": "python",
   "nbconvert_exporter": "python",
   "pygments_lexer": "ipython3",
   "version": "3.7.9"
  }
 },
 "nbformat": 4,
 "nbformat_minor": 4
}
