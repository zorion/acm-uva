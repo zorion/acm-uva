{
 "cells": [
  {
   "cell_type": "code",
   "execution_count": 21,
   "metadata": {},
   "outputs": [],
   "source": [
    "sample = (5764801, 17807724)\n",
    "my_in = (1614360, 7734663)\n",
    "DENOM = 20201227\n",
    "SUBJECT = 7"
   ]
  },
  {
   "cell_type": "code",
   "execution_count": 25,
   "metadata": {},
   "outputs": [
    {
     "name": "stdout",
     "output_type": "stream",
     "text": [
      "End num cycles 8 5764801\n",
      "End num cycles 11 17807724\n"
     ]
    }
   ],
   "source": [
    "def apply_loop(target, subject=SUBJECT, denom=DENOM):\n",
    "    value = 1\n",
    "    i = 0\n",
    "    while True:\n",
    "        value *= subject\n",
    "        value %= denom\n",
    "        i += 1\n",
    "        yield value\n",
    "        if value == target:\n",
    "            print('End num cycles', i, value)\n",
    "            break\n",
    "list(apply_loop(sample[0]))\n",
    "list(apply_loop(sample[1]))\n",
    "def cycle_generator(subject, denom, cache):\n",
    "    i = 0\n",
    "    value = 1\n",
    "    def _aux():\n",
    "        i += 1\n",
    "        value *= subject\n",
    "        value %= denom\n",
    "        cache[value] = i\n",
    "        return value\n",
    "    return _aux\n",
    "\n",
    "def loop(value=1, subject=SUBJECT, denom=DENOM):\n",
    "    value *= subject\n",
    "    value %= denom\n",
    "    return value"
   ]
  },
  {
   "cell_type": "code",
   "execution_count": 28,
   "metadata": {},
   "outputs": [
    {
     "name": "stderr",
     "output_type": "stream",
     "text": [
      "100%|██████████| 8/8 [00:00<00:00, 14284.56it/s]"
     ]
    },
    {
     "name": "stdout",
     "output_type": "stream",
     "text": [
      "Subject 17807724 Cycles 8\n"
     ]
    },
    {
     "name": "stderr",
     "output_type": "stream",
     "text": [
      "\n",
      " 13%|█▎        | 151715/1182212 [00:00<00:00, 1517136.98it/s]"
     ]
    },
    {
     "name": "stdout",
     "output_type": "stream",
     "text": [
      "Subject 7734663 Cycles 1182212\n"
     ]
    },
    {
     "name": "stderr",
     "output_type": "stream",
     "text": [
      "100%|██████████| 1182212/1182212 [00:00<00:00, 1723125.24it/s]\n"
     ]
    },
    {
     "data": {
      "text/plain": [
       "5414549"
      ]
     },
     "execution_count": 28,
     "metadata": {},
     "output_type": "execute_result"
    }
   ],
   "source": [
    "import tqdm\n",
    "def problem1(card, door):\n",
    "    value = 1\n",
    "    i = 0\n",
    "    while True:\n",
    "        i += 1\n",
    "        value = loop(value)\n",
    "        if value == card:\n",
    "            return result_prob1(door, i)\n",
    "        if value == door:\n",
    "            return result_prob1(card, i)\n",
    "        #print('Not yet', i, value)\n",
    "\n",
    "def result_prob1(subject, cycles, denom=DENOM):\n",
    "    print('Subject', subject, 'Cycles', cycles)\n",
    "    value = 1\n",
    "    for i in tqdm.tqdm(range(cycles)):\n",
    "        value = loop(value, subject, denom)\n",
    "    return value\n",
    "    \n",
    "assert problem1(*sample) == 14897079\n",
    "problem1(*my_in)"
   ]
  },
  {
   "cell_type": "code",
   "execution_count": null,
   "metadata": {},
   "outputs": [],
   "source": []
  }
 ],
 "metadata": {
  "kernelspec": {
   "display_name": "Python 3",
   "language": "python",
   "name": "python3"
  },
  "language_info": {
   "codemirror_mode": {
    "name": "ipython",
    "version": 3
   },
   "file_extension": ".py",
   "mimetype": "text/x-python",
   "name": "python",
   "nbconvert_exporter": "python",
   "pygments_lexer": "ipython3",
   "version": "3.7.9"
  }
 },
 "nbformat": 4,
 "nbformat_minor": 4
}
