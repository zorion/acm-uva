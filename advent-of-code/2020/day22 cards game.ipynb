{
 "cells": [
  {
   "cell_type": "code",
   "execution_count": 20,
   "metadata": {},
   "outputs": [],
   "source": [
    "sample = \"\"\"Player 1:\n",
    "9\n",
    "2\n",
    "6\n",
    "3\n",
    "1\n",
    "\n",
    "Player 2:\n",
    "5\n",
    "8\n",
    "4\n",
    "7\n",
    "10\"\"\"\n",
    "expected_1 = 306"
   ]
  },
  {
   "cell_type": "code",
   "execution_count": 21,
   "metadata": {},
   "outputs": [],
   "source": [
    "def parse_problem(s):\n",
    "    player1, player2 = s.split('\\n\\n')\n",
    "    assert player1.startswith('Player 1:\\n')\n",
    "    assert player2.startswith('Player 2:\\n')\n",
    "    return [int(x) for x in player1.split('\\n')[1:]], [int(x) for x in player2.split('\\n')[1:]]\n",
    "assert parse_problem(sample) == ([9,2,6,3,1], [5,8,4,7,10])"
   ]
  },
  {
   "cell_type": "code",
   "execution_count": 42,
   "metadata": {},
   "outputs": [
    {
     "name": "stdout",
     "output_type": "stream",
     "text": [
      "Player2 wins problem1\n",
      "Player1 wins problem1\n",
      "Player2 [7, 5, 6, 2, 4, 1, 10, 8, 9, 3] 291\n",
      "Player1 [36, 1, 49, 39, 40, 24, 30, 20, 25, 5, 46, 43, 33, 23, 48, 31, 26, 11, 47, 27, 41, 17, 13, 7, 38, 18, 28, 16, 12, 9, 50, 15, 44, 4, 42, 21, 34, 8, 37, 3, 32, 2, 35, 22, 29, 10, 45, 14, 19, 6] 35070\n"
     ]
    },
    {
     "data": {
      "text/plain": [
       "35070"
      ]
     },
     "execution_count": 42,
     "metadata": {},
     "output_type": "execute_result"
    }
   ],
   "source": [
    "def get_score(player):\n",
    "    return sum([i*v for i, v in enumerate(player[::-1], 1)])\n",
    "\n",
    "def problem1(s):\n",
    "    player1, player2 = parse_problem(s)\n",
    "    while player1 and player2:\n",
    "        p1 = player1.pop(0)\n",
    "        p2 = player2.pop(0)\n",
    "        if p1 > p2:\n",
    "            player1 += [p1, p2]\n",
    "        else:\n",
    "            player2 += [p2, p1]\n",
    "    print(('Player1' if player1 else 'Player2'), 'wins problem1')\n",
    "    return get_score(player1 if player1 else player2)\n",
    "assert problem1(sample) == expected_1\n",
    "assert problem1(my_in) == 33772\n",
    "\n",
    "def problem2(s):\n",
    "    player1, player2 = parse_problem(s)\n",
    "    seen = set()\n",
    "    winner, deck = sub_game(player1, player2, len(player1), len(player2))\n",
    "    print(winner, deck, get_score(deck))\n",
    "    return get_score(deck)\n",
    "\n",
    "def sub_game(player1, player2, len1, len2):\n",
    "    p1deck = [p for p in player1[:len1]]\n",
    "    p2deck = [p for p in player2[:len2]]\n",
    "    seen = set()\n",
    "    while p1deck and p2deck:\n",
    "        #print(p1deck, p2deck, len1, len2)\n",
    "        current_game = (tuple(p1deck), tuple(p2deck))\n",
    "        if current_game in seen:\n",
    "            pass\n",
    "            return 'Player1', p1deck\n",
    "        seen.add(current_game)\n",
    "        p1 = p1deck.pop(0)\n",
    "        p2 = p2deck.pop(0)\n",
    "        if p1 <= len(p1deck) and p2 <= len(p2deck):\n",
    "            winner, _ = sub_game(p1deck, p2deck, p1, p2)\n",
    "            if winner == 'Player1':\n",
    "                p1deck += [p1, p2]\n",
    "            else:\n",
    "                p2deck += [p2, p1]\n",
    "            continue\n",
    "        if p1 > p2:\n",
    "            p1deck += [p1, p2]\n",
    "        else:\n",
    "            p2deck += [p2, p1]\n",
    "    if p1deck:\n",
    "        return 'Player1', p1deck\n",
    "    else:\n",
    "        return 'Player2', p2deck\n",
    "    \n",
    "\n",
    "assert problem2(sample) == 291\n",
    "problem2(my_in)"
   ]
  },
  {
   "cell_type": "code",
   "execution_count": null,
   "metadata": {},
   "outputs": [],
   "source": []
  },
  {
   "cell_type": "code",
   "execution_count": null,
   "metadata": {},
   "outputs": [],
   "source": []
  },
  {
   "cell_type": "code",
   "execution_count": null,
   "metadata": {},
   "outputs": [],
   "source": []
  },
  {
   "cell_type": "code",
   "execution_count": 5,
   "metadata": {},
   "outputs": [],
   "source": [
    "my_in = \"\"\"Player 1:\n",
    "19\n",
    "22\n",
    "43\n",
    "38\n",
    "23\n",
    "21\n",
    "2\n",
    "40\n",
    "31\n",
    "17\n",
    "27\n",
    "28\n",
    "35\n",
    "44\n",
    "41\n",
    "47\n",
    "50\n",
    "7\n",
    "39\n",
    "5\n",
    "42\n",
    "25\n",
    "33\n",
    "3\n",
    "48\n",
    "\n",
    "Player 2:\n",
    "16\n",
    "24\n",
    "36\n",
    "6\n",
    "34\n",
    "11\n",
    "8\n",
    "30\n",
    "26\n",
    "15\n",
    "9\n",
    "10\n",
    "14\n",
    "1\n",
    "12\n",
    "4\n",
    "32\n",
    "13\n",
    "18\n",
    "46\n",
    "37\n",
    "29\n",
    "20\n",
    "45\n",
    "49\"\"\""
   ]
  },
  {
   "cell_type": "code",
   "execution_count": null,
   "metadata": {},
   "outputs": [],
   "source": []
  }
 ],
 "metadata": {
  "kernelspec": {
   "display_name": "Python 3",
   "language": "python",
   "name": "python3"
  },
  "language_info": {
   "codemirror_mode": {
    "name": "ipython",
    "version": 3
   },
   "file_extension": ".py",
   "mimetype": "text/x-python",
   "name": "python",
   "nbconvert_exporter": "python",
   "pygments_lexer": "ipython3",
   "version": "3.7.9"
  }
 },
 "nbformat": 4,
 "nbformat_minor": 4
}
