{
 "cells": [
  {
   "cell_type": "code",
   "execution_count": 12,
   "metadata": {},
   "outputs": [
    {
     "data": {
      "text/plain": [
       "{('A', 'b'),\n",
       " ('A', 'c'),\n",
       " ('A', 'end'),\n",
       " ('b', 'd'),\n",
       " ('b', 'end'),\n",
       " ('start', 'A'),\n",
       " ('start', 'b')}"
      ]
     },
     "execution_count": 12,
     "metadata": {},
     "output_type": "execute_result"
    }
   ],
   "source": [
    "sample_small = \"\"\"\n",
    "start-A\n",
    "start-b\n",
    "A-c\n",
    "A-b\n",
    "b-d\n",
    "A-end\n",
    "b-end\n",
    "\"\"\"\n",
    "sample_mid = \"\"\"\n",
    "dc-end\n",
    "HN-start\n",
    "start-kj\n",
    "dc-start\n",
    "dc-HN\n",
    "LN-dc\n",
    "HN-end\n",
    "kj-sa\n",
    "kj-HN\n",
    "kj-dc\n",
    "\"\"\"\n",
    "sample_large = \"\"\"\n",
    "fs-end\n",
    "he-DX\n",
    "fs-he\n",
    "start-DX\n",
    "pj-DX\n",
    "end-zg\n",
    "zg-sl\n",
    "zg-pj\n",
    "pj-he\n",
    "RW-he\n",
    "fs-DX\n",
    "pj-RW\n",
    "zg-RW\n",
    "start-pj\n",
    "he-WI\n",
    "zg-he\n",
    "pj-fs\n",
    "start-RW\n",
    "\"\"\"\n",
    "my_in = \"\"\"ax-end\n",
    "xq-GF\n",
    "end-xq\n",
    "im-wg\n",
    "ax-ie\n",
    "start-ws\n",
    "ie-ws\n",
    "CV-start\n",
    "ng-wg\n",
    "ng-ie\n",
    "GF-ng\n",
    "ng-av\n",
    "CV-end\n",
    "ie-GF\n",
    "CV-ie\n",
    "im-xq\n",
    "start-GF\n",
    "GF-ws\n",
    "wg-LY\n",
    "CV-ws\n",
    "im-CV\n",
    "CV-wg\n",
    "\"\"\"\n",
    "\n",
    "def get_input(s):\n",
    "    lines = s.strip().split('\\n')\n",
    "    result = set()\n",
    "    for line in lines:\n",
    "        a, b = line.split('-')\n",
    "        result.add((a, b))\n",
    "    return result\n",
    "get_input(sample_small)"
   ]
  },
  {
   "cell_type": "code",
   "execution_count": 13,
   "metadata": {},
   "outputs": [
    {
     "data": {
      "text/plain": [
       "3576"
      ]
     },
     "execution_count": 13,
     "metadata": {},
     "output_type": "execute_result"
    }
   ],
   "source": [
    "def prob1(s):\n",
    "    links = get_input(s)\n",
    "    graph = get_graph(links)\n",
    "    paths = get_paths(graph, 'start', 'end', ['start'])\n",
    "    return len(paths)\n",
    "\n",
    "def get_graph(links):\n",
    "    graph = {}\n",
    "    for a, b in links:\n",
    "        if a not in graph:\n",
    "            graph[a] = set()\n",
    "        if b not in graph:\n",
    "            graph[b] = set()\n",
    "        graph[a].add(b)\n",
    "        graph[b].add(a)\n",
    "    return graph\n",
    "\n",
    "def can_visit(path, node):\n",
    "    if node not in path:\n",
    "        return True\n",
    "    # else node is in path so check if upper\n",
    "    return node == node.upper()\n",
    "\n",
    "def get_paths(graph, start, end, path):\n",
    "    result = []\n",
    "    for node in graph[start]:\n",
    "        if node == end:\n",
    "            result.append(path + [end])\n",
    "            continue\n",
    "        if can_visit(path, node):\n",
    "            paths = get_paths(graph, node, end, path + [node])\n",
    "            result += paths\n",
    "    return result\n",
    "\n",
    "assert prob1(sample_small) == 10\n",
    "assert prob1(sample_mid) == 19\n",
    "assert prob1(sample_large) == 226\n",
    "assert prob1(my_in) == 3576"
   ]
  },
  {
   "cell_type": "code",
   "execution_count": 14,
   "metadata": {},
   "outputs": [
    {
     "data": {
      "text/plain": [
       "84271"
      ]
     },
     "execution_count": 14,
     "metadata": {},
     "output_type": "execute_result"
    }
   ],
   "source": [
    "def can_visit(path, node):\n",
    "    if node not in path:\n",
    "        return True\n",
    "    if node == node.upper():\n",
    "        return True\n",
    "    if node == 'start':\n",
    "        return False\n",
    "    for n in path:\n",
    "        if n == n.upper():\n",
    "            continue\n",
    "        if len([i for i in path if i == n]) > 1:\n",
    "            return False\n",
    "    return True\n",
    "def prob2(s):\n",
    "    return prob1(s)\n",
    "\n",
    "assert prob2(sample_small) == 36\n",
    "assert prob2(sample_mid) == 103\n",
    "assert prob2(sample_large) == 3509\n",
    "prob2(my_in)"
   ]
  },
  {
   "cell_type": "code",
   "execution_count": null,
   "metadata": {},
   "outputs": [],
   "source": []
  },
  {
   "cell_type": "code",
   "execution_count": null,
   "metadata": {},
   "outputs": [],
   "source": []
  }
 ],
 "metadata": {
  "kernelspec": {
   "display_name": "Python 3",
   "language": "python",
   "name": "python3"
  },
  "language_info": {
   "codemirror_mode": {
    "name": "ipython",
    "version": 3
   },
   "file_extension": ".py",
   "mimetype": "text/x-python",
   "name": "python",
   "nbconvert_exporter": "python",
   "pygments_lexer": "ipython3",
   "version": "3.7.10"
  }
 },
 "nbformat": 4,
 "nbformat_minor": 4
}
