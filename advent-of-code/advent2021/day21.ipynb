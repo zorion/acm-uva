{
 "cells": [
  {
   "cell_type": "code",
   "execution_count": 34,
   "metadata": {},
   "outputs": [
    {
     "name": "stdout",
     "output_type": "stream",
     "text": [
      "[4, 8]\n",
      "[6, 1]\n"
     ]
    }
   ],
   "source": [
    "import re\n",
    "sample_in = \"\"\"\n",
    "Player 1 starting position: 4\n",
    "Player 2 starting position: 8\n",
    "\"\"\"\n",
    "my_in = \"\"\"\n",
    "Player 1 starting position: 6\n",
    "Player 2 starting position: 1\n",
    "\"\"\"\n",
    "\n",
    "\n",
    "def get_input(s):\n",
    "    player_matches = [\n",
    "        re.search('^Player ([12]) starting position: ([0-9]+)$', x)\n",
    "        for x in s.strip().split('\\n')]\n",
    "    players = [int(pm.groups()[1]) for pm in player_matches]\n",
    "    return players\n",
    "\n",
    "\n",
    "print(get_input(sample_in))\n",
    "print(get_input(my_in))\n"
   ]
  },
  {
   "cell_type": "code",
   "execution_count": 35,
   "metadata": {},
   "outputs": [
    {
     "name": "stdout",
     "output_type": "stream",
     "text": [
      "[1000, 745] 993\n",
      "[1006, 925] 1005\n",
      "ok\n"
     ]
    }
   ],
   "source": [
    "def prob1(s):\n",
    "    positions = get_input(s)\n",
    "    finished = False\n",
    "    rolls = 0\n",
    "    scores = [0, 0]\n",
    "    parity = 0\n",
    "    while not finished:\n",
    "        pos = get_points_test_dice(positions[parity], rolls)\n",
    "        positions[parity] = pos\n",
    "        scores[parity] += pos\n",
    "        if scores[parity] >= 1000:\n",
    "            finished = True\n",
    "        #\n",
    "        # print(rolls, positions, scores)\n",
    "        parity = (parity + 1) % 2\n",
    "        rolls += 3\n",
    "    loser = scores[parity]\n",
    "    print(scores, rolls)\n",
    "    return loser * rolls\n",
    "\n",
    "\n",
    "def get_points_test_dice(position, rolls):\n",
    "    return ((position + ((rolls+2) * 3) - 1) % 10) + 1\n",
    "\n",
    "\n",
    "test1 = prob1(sample_in)\n",
    "assert test1 == 739785, test1\n",
    "assert prob1(my_in) == 929625\n",
    "print('ok')\n"
   ]
  },
  {
   "cell_type": "code",
   "execution_count": 36,
   "metadata": {},
   "outputs": [],
   "source": [
    "def prob2(s):\n",
    "    positions = get_input(s)\n",
    "    cache = {'l': []}\n",
    "    pos_key = (positions[0], 0, positions[1], 0, 0)\n",
    "    cache[pos_key] = 0\n",
    "    pending = {pos_key}\n",
    "    i = 0\n",
    "    while pending:\n",
    "        i += 1\n",
    "        if i % 10000 == 1:\n",
    "            print(\n",
    "                f'Iter {i} - Len pending: {len(pending)} - Len cache: {len(cache)}')\n",
    "        add_options(cache, pending)\n",
    "    vresult = [cache.get((a, b, c, d, 1), 0) for a in range(11)\n",
    "               for c in range(11) for d in range(21) for b in [21, 22, 23]]\n",
    "    result = sum(vresult)\n",
    "    print(f'Len cache: {len(cache[\"l\"])} result: {result}')\n",
    "\n",
    "    return result\n",
    "\n",
    "\n",
    "def add_options(cache, pending):\n",
    "    pos = get_min(pending)\n",
    "    x, score1, y, score2, my_turn = pos\n",
    "    new_turn = 1 - my_turn\n",
    "    if score1 > 21 or score2 > 20:\n",
    "        return\n",
    "    for a in range(1, 4):\n",
    "        for b in range(1, 4):\n",
    "            for c in range(1, 4):\n",
    "                i = a + b + c\n",
    "                if my_turn==0:\n",
    "                    new_pos1 = ((x + i - 1) % 10) + 1\n",
    "                    key1 = (new_pos1, score1 + new_pos1, y, score2, new_turn)\n",
    "                    cache[key1] = cache[pos] + 1\n",
    "                    pending.add(key1)\n",
    "                else:\n",
    "                    new_pos2 = ((y + i - 1) % 10) + 1\n",
    "                    key2 = (x, score1, new_pos2, score2 + new_pos2, new_turn)\n",
    "                    cache[key2] = cache[pos] + 1\n",
    "                    pending.add(key2)\n",
    "\n",
    "\n",
    "def get_min(pending):\n",
    "    min_val = (21, 21, 21, 21, True)\n",
    "    for p in pending:\n",
    "        if gpiv(p) < gpiv(min_val):\n",
    "            min_val = p\n",
    "    if min_val != (21, 21, 21, 21, True):\n",
    "        pending.remove(min_val)\n",
    "    return min_val\n",
    "\n",
    "\n",
    "def gpiv(point):\n",
    "    \"\"\"Get point inherent value.\"\"\"\n",
    "    a, b, c, d, turn = point\n",
    "    return a+b+c+d+turn\n",
    "\n",
    "if None:\n",
    "    test2 = prob2(sample_in)\n",
    "    assert test2 == 444356092776315, test2\n",
    "    prob2(my_in)\n"
   ]
  },
  {
   "cell_type": "code",
   "execution_count": 37,
   "metadata": {},
   "outputs": [
    {
     "name": "stdout",
     "output_type": "stream",
     "text": [
      "[4, 8]\n",
      "444356092776315 341960390180808 444356092776315\n",
      "[6, 1]\n",
      "153087536629019 175731756652760 175731756652760\n"
     ]
    },
    {
     "data": {
      "text/plain": [
       "175731756652760"
      ]
     },
     "execution_count": 37,
     "metadata": {},
     "output_type": "execute_result"
    }
   ],
   "source": [
    "def prob2(s):\n",
    "    cache = {}\n",
    "    position = get_input(s)\n",
    "    clau = (0,0, position[0], position[1], True)\n",
    "    win1, win2 = get_winners(clau, cache)\n",
    "    print(position)\n",
    "    print(win1, win2, max(win1, win2))\n",
    "    return max(win1, win2)\n",
    "\n",
    "def get_winners(clau, cache):\n",
    "    if clau in cache:\n",
    "        return cache[clau]\n",
    "    score1, score2, pos1, pos2, torn1 = clau\n",
    "    if score1 >= 21:\n",
    "        return 1, 0\n",
    "    if score2 >= 21:\n",
    "        return 0, 1\n",
    "    wins1 = 0\n",
    "    wins2 = 0\n",
    "    for a in range(1, 4):\n",
    "        for b in range(1, 4):\n",
    "            for c in range(1, 4):\n",
    "                move = a + b + c\n",
    "                if torn1:\n",
    "                    new_pos = ((pos1 + move - 1) % 10) + 1\n",
    "                    new_score = score1 + new_pos\n",
    "                    new_clau = (new_score, score2, new_pos, pos2, not torn1)\n",
    "                else:\n",
    "                    new_pos = ((pos2 + move - 1) % 10) + 1\n",
    "                    new_score = score2 + new_pos\n",
    "                    new_clau = (score1, new_score, pos1, new_pos, not torn1)\n",
    "                w1, w2 = get_winners(new_clau, cache)\n",
    "                wins1 += w1\n",
    "                wins2 += w2\n",
    "    cache[clau] =  wins1, wins2\n",
    "    return cache[clau]\n",
    "\n",
    "\n",
    "test2 = prob2(sample_in)\n",
    "assert test2 == 444356092776315, test2\n",
    "prob2(my_in)"
   ]
  },
  {
   "cell_type": "code",
   "execution_count": null,
   "metadata": {},
   "outputs": [],
   "source": []
  }
 ],
 "metadata": {
  "kernelspec": {
   "display_name": "Python 3",
   "language": "python",
   "name": "python3"
  },
  "language_info": {
   "codemirror_mode": {
    "name": "ipython",
    "version": 3
   },
   "file_extension": ".py",
   "mimetype": "text/x-python",
   "name": "python",
   "nbconvert_exporter": "python",
   "pygments_lexer": "ipython3",
   "version": "3.7.12"
  }
 },
 "nbformat": 4,
 "nbformat_minor": 4
}
