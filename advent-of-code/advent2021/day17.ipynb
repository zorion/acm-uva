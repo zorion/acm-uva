{
 "cells": [
  {
   "cell_type": "code",
   "execution_count": 99,
   "metadata": {},
   "outputs": [
    {
     "name": "stdout",
     "output_type": "stream",
     "text": [
      "(20, 30, -10, -5)\n",
      "(155, 182, -117, -67)\n"
     ]
    }
   ],
   "source": [
    "import re\n",
    "sample_in = 'target area: x=20..30, y=-10..-5'\n",
    "my_in = 'target area: x=155..182, y=-117..-67'\n",
    "\n",
    "# 1: (6,9) 2 (6+5, 9+8) 3 (11+4, 9+..+7) 4 (15+3, 9+..+6) 5 (18+2, 9+..+5) 6 (20+1, 9+..+4)\n",
    "# 7: (21, ..+3) 8 (+2) 9 (+1) 10 (+0) 11 (+1) 12 (+2) 13 (+3) 14 (+4) 15 (+5) 16 (+6)\n",
    "# 17: (+7) 18: (9+8) 19: (9+8-8) 20 :(9-9) 21: (21, 0-10)\n",
    "\n",
    "# 1: (6, 0) 2: (6+5, 0-1) 3:(11+4, -1-2) 4:(15+3, -3-3) 5:(18+2, -6-4) = (20, -10)\n",
    "\n",
    "# 1: (9, -2) 2: (9+8, -2-3) 3: (17+7, -5-4)\n",
    "\n",
    "def get_input(s):\n",
    "    rm = re.search('target area: x=(.*)\\.\\.(.*), y=(.*)\\.\\.(.*)', s)\n",
    "    return tuple(int(i) for i in rm.groups())\n",
    "\n",
    "print(get_input(sample_in))\n",
    "print(get_input(my_in))"
   ]
  },
  {
   "cell_type": "code",
   "execution_count": 100,
   "metadata": {},
   "outputs": [
    {
     "name": "stdout",
     "output_type": "stream",
     "text": [
      "ok\n"
     ]
    }
   ],
   "source": [
    "def prob1(s):\n",
    "    xmin, xmax, ymin, ymax = get_input(s)\n",
    "    assert ymin < 0 and ymax < 0, f'{ymin} and {ymax} must have been negative'\n",
    "    y_ops = get_initial_vertical_options(ymin, ymax)\n",
    "    for vely in y_ops:\n",
    "        velx = canbedone(xmin, xmax, ymin, ymax, vely)\n",
    "        if velx:\n",
    "            break\n",
    "    result = simulate_highest_y(vely)\n",
    "    return result\n",
    "def simulate_highest_y(vel_y):\n",
    "    # sum 1,2..vel_y\n",
    "    return int((vel_y + 1) * vel_y / 2)\n",
    "def get_initial_vertical_options(ymin, ymax):\n",
    "    # We can't get a vely over -(ymin-1) because the first down-step will be at -vely-1\n",
    "    for vely in range(ymin + 1, 0):\n",
    "        yield -vely\n",
    "    print('Finished getting velocities')\n",
    "def canbedone(xmin, xmax, ymin, ymax, vely):\n",
    "    steps = how_many_steps(vely, ymin, ymax)\n",
    "    #print(f'Trying {vely} initial {ymin}..{ymax}: {steps}')\n",
    "    results = []\n",
    "    for extra_step in steps:\n",
    "        step = extra_step\n",
    "        if vely > 0:\n",
    "            step += vely * 2 + 2\n",
    "        if vely == 0:\n",
    "            step += 1\n",
    "        velx = get_velx(xmin, xmax, step)\n",
    "        if vely == -2:\n",
    "            print(f'steps {step}, {velx}, {vely}, {steps}')\n",
    "        if velx:\n",
    "            results.extend(velx)\n",
    "    return set(results)\n",
    "def how_many_steps(vely, ymin, ymax):\n",
    "    # (((1 + steps)* (steps) / 2) + steps * vely) between -ymax and -ymin\n",
    "    result = []\n",
    "    for steps in range(-ymin * 1000):\n",
    "        # vely+1 + vely+2 + ... + vely+n = (vely+vely+..+vely) + (1+2+..+n)\n",
    "        #                                = (n * vely       ) + ((1+n) * (n) / 2)\n",
    "        intent = int((1+steps)*steps/2 + steps * vely)  # Down shot\n",
    "        if vely >= 0:\n",
    "            # intent = sum(range(vely, vely + steps))\n",
    "            # print(steps, intent)\n",
    "            if intent > -ymin:\n",
    "                break\n",
    "            if intent >= -ymax:\n",
    "                result.append(steps)\n",
    "        else:\n",
    "            if intent < ymin:\n",
    "                break\n",
    "            if intent <= ymax:\n",
    "                result.append(steps)\n",
    "    return result\n",
    "\n",
    "def get_velx(xmin, xmax, steps):\n",
    "    results = []\n",
    "    for velx in range(xmax + 1):\n",
    "        intent = 0\n",
    "        for i in range(steps):\n",
    "            intent += max(velx - i, 0)\n",
    "        # print(f'for {velx} applied {steps} times we get {intent}. Is it in [{xmin}, {xmax}]?')\n",
    "        if intent > xmax:\n",
    "            # print(f'Breaking {velx} with {intent} and {results}')\n",
    "            break\n",
    "        if intent >= xmin:\n",
    "            results.append(velx)\n",
    "    return results\n",
    "\n",
    "test1 = prob1(sample_in)\n",
    "assert test1 == 45, test1\n",
    "assert prob1(my_in) == 6786, prob1(my_in)\n",
    "\n",
    "print('ok')"
   ]
  },
  {
   "cell_type": "code",
   "execution_count": 101,
   "metadata": {},
   "outputs": [
    {
     "data": {
      "text/plain": [
       "2313"
      ]
     },
     "execution_count": 101,
     "metadata": {},
     "output_type": "execute_result"
    }
   ],
   "source": [
    "def prob2(s):\n",
    "    xmin, xmax, ymin, ymax = get_input(s)\n",
    "    assert ymin < 0 and ymax < 0, f'{ymin} and {ymax} must have been negative'\n",
    "    y_ops = get_initial_vertical_options2(ymin, ymax)\n",
    "    result = 0\n",
    "    internal_points = set()\n",
    "    for vely in y_ops:\n",
    "        velx = canbedone(xmin, xmax, ymin, ymax, vely)\n",
    "        result += len(velx)\n",
    "        for x in velx:\n",
    "            internal_points.add((x,vely))\n",
    "    print('ok     :', IT & internal_points)\n",
    "    print('extra  :', internal_points - IT)\n",
    "    print('missing:', IT - internal_points)\n",
    "    print('ok     :', len(IT & internal_points))\n",
    "    print('extra  :', len(internal_points - IT))\n",
    "    print('missing:', len(IT - internal_points))\n",
    "    return result\n",
    "def get_initial_vertical_options2(ymin, ymax):\n",
    "    # We can't get a vely over -(ymin-1) because the first down-step will be at -vely-1\n",
    "    for vely in range(ymin-10, -ymin+2):\n",
    "        yield -vely\n",
    "    print('Finished getting velocities')\n",
    "    return\n",
    "def prob2(s):\n",
    "    xmin, xmax, ymin, ymax = get_input(s)\n",
    "    result = 0\n",
    "    for x in range(xmax + 1):\n",
    "        for y in range(ymin, -ymin+1):\n",
    "            if simulate(x, y, xmin, xmax, ymin, ymax):\n",
    "                result += 1\n",
    "    return result\n",
    "def simulate(velx, vely, xmin, xmax, ymin, ymax):\n",
    "    posx = 0\n",
    "    posy = 0\n",
    "    while posx <= xmax and posy >= ymin:\n",
    "        if posx in range(xmin, xmax+1) and posy in range(ymin, ymax+1):\n",
    "            return True\n",
    "        posx += velx\n",
    "        posy += vely\n",
    "        velx = max(0, velx-1)\n",
    "        vely -= 1\n",
    "    return False\n",
    "test2 = prob2(sample_in)\n",
    "assert test2 == 112, test2\n",
    "res2 = prob2(my_in)\n",
    "assert res2 < 2327, res2\n",
    "res2"
   ]
  },
  {
   "cell_type": "code",
   "execution_count": 63,
   "metadata": {},
   "outputs": [
    {
     "data": {
      "text/plain": [
       "[(7, 3), (6, 9), (26, -5), (27, -5), (21, -5), '...']"
      ]
     },
     "execution_count": 63,
     "metadata": {},
     "output_type": "execute_result"
    }
   ],
   "source": [
    "IT = {(tuple([int(y) for y in x.split(\",\")])) for x in \"\"\"23,-10  25,-9   27,-5   29,-6   22,-6   21,-7   9,0     27,-7   24,-5\n",
    " 25,-7   26,-6   25,-5   6,8     11,-2   20,-5   29,-10  6,3     28,-7\n",
    " 8,0     30,-6   29,-8   20,-10  6,7     6,4     6,1     14,-4   21,-6\n",
    " 26,-10  7,-1    7,7     8,-1    21,-9   6,2     20,-7   30,-10  14,-3\n",
    " 20,-8   13,-2   7,3     28,-8   29,-9   15,-3   22,-5   26,-8   25,-8\n",
    " 25,-6   15,-4   9,-2    15,-2   12,-2   28,-9   12,-3   24,-6   23,-7\n",
    " 25,-10  7,8     11,-3   26,-7   7,1     23,-9   6,0     22,-10  27,-6\n",
    " 8,1     22,-8   13,-4   7,6     28,-6   11,-4   12,-4   26,-9   7,4\n",
    " 24,-10  23,-8   30,-8   7,0     9,-1    10,-1   26,-5   22,-9   6,5\n",
    " 7,5     23,-6   28,-10  10,-2   11,-1   20,-9   14,-2   29,-7   13,-3\n",
    " 23,-5   24,-8   27,-9   30,-7   28,-5   21,-10  7,9     6,6     21,-5\n",
    " 27,-10  7,2     30,-9   21,-8   22,-7   24,-9   20,-6   6,9     29,-5\n",
    " 8,-2    27,-8   30,-5   24,-7\"\"\".replace('\\n', '').split(' ') if x}\n",
    "[x for x in IT][:5] + ['...']"
   ]
  },
  {
   "cell_type": "code",
   "execution_count": null,
   "metadata": {},
   "outputs": [],
   "source": []
  }
 ],
 "metadata": {
  "kernelspec": {
   "display_name": "Python 3",
   "language": "python",
   "name": "python3"
  },
  "language_info": {
   "codemirror_mode": {
    "name": "ipython",
    "version": 3
   },
   "file_extension": ".py",
   "mimetype": "text/x-python",
   "name": "python",
   "nbconvert_exporter": "python",
   "pygments_lexer": "ipython3",
   "version": "3.7.12"
  }
 },
 "nbformat": 4,
 "nbformat_minor": 4
}
