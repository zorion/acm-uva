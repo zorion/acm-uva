{
 "cells": [
  {
   "cell_type": "code",
   "execution_count": 29,
   "metadata": {},
   "outputs": [
    {
     "data": {
      "text/plain": [
       "[[5, 4, 8, 3, 1, 4, 3, 2, 2, 3],\n",
       " [2, 7, 4, 5, 8, 5, 4, 7, 1, 1],\n",
       " [5, 2, 6, 4, 5, 5, 6, 1, 7, 3],\n",
       " [6, 1, 4, 1, 3, 3, 6, 1, 4, 6],\n",
       " [6, 3, 5, 7, 3, 8, 5, 4, 7, 8],\n",
       " [4, 1, 6, 7, 5, 2, 4, 6, 4, 5],\n",
       " [2, 1, 7, 6, 8, 4, 1, 7, 2, 1],\n",
       " [6, 8, 8, 2, 8, 8, 1, 1, 3, 4],\n",
       " [4, 8, 4, 6, 8, 4, 8, 5, 5, 4],\n",
       " [5, 2, 8, 3, 7, 5, 1, 5, 2, 6]]"
      ]
     },
     "execution_count": 29,
     "metadata": {},
     "output_type": "execute_result"
    }
   ],
   "source": [
    "sample_in = \"\"\"\n",
    "5483143223\n",
    "2745854711\n",
    "5264556173\n",
    "6141336146\n",
    "6357385478\n",
    "4167524645\n",
    "2176841721\n",
    "6882881134\n",
    "4846848554\n",
    "5283751526\"\"\"\n",
    "\n",
    "my_in = \"\"\"\n",
    "1254117228\n",
    "4416873224\n",
    "8354381553\n",
    "1372637614\n",
    "5586538553\n",
    "7213333427\n",
    "3571362825\n",
    "1681126243\n",
    "8718312138\n",
    "5254266347\n",
    "\"\"\"\n",
    "\n",
    "N = 10\n",
    "\n",
    "def get_input(s):\n",
    "    return [[int(i) for i in line] for line in s.strip().split('\\n')]\n",
    "get_input(sample_in)"
   ]
  },
  {
   "cell_type": "code",
   "execution_count": 31,
   "metadata": {},
   "outputs": [],
   "source": [
    "def prob1(str_in, steps=100) -> int:\n",
    "    result = 0\n",
    "    board = get_input(str_in)\n",
    "    for step in range(steps):\n",
    "        new_flashes = run_step(board)\n",
    "        result += new_flashes\n",
    "    return result\n",
    "def run_step(board) -> int:\n",
    "    flashes = increase_energy(board, 1)\n",
    "    pending_flashes = set() | flashes\n",
    "    while pending_flashes:\n",
    "        flash = pending_flashes.pop()\n",
    "        new_flashes = apply_flash(board, flash)\n",
    "        for flash in new_flashes:\n",
    "            if flash not in flashes:\n",
    "                flashes.add(flash)\n",
    "                pending_flashes.add(flash)\n",
    "    restore_flashes(board, flashes)\n",
    "    return len(flashes)\n",
    "def increase_energy(board, step_size) -> 'set(tuple(int, int))':\n",
    "    result = set()\n",
    "    for i in range(10):\n",
    "        for j in range(10):\n",
    "            board[i][j] += 1\n",
    "            if board[i][j] > 9:\n",
    "                result.add((i, j))\n",
    "    return result\n",
    "def restore_flashes(board, flashes) -> None:\n",
    "    for i,j in flashes:\n",
    "        board[i][j] = 0\n",
    "    return None\n",
    "def apply_flash(board, flash) -> 'set(tuple(int, int))':\n",
    "    result = set()\n",
    "    for i, j in get_neighbours(flash):\n",
    "        board[i][j] += 1\n",
    "        if board[i][j] > 9:\n",
    "            result.add((i, j))\n",
    "    return result\n",
    "def get_neighbours(flash):\n",
    "    x, y = flash\n",
    "    result = []\n",
    "    for i in [-1, 0, 1]:\n",
    "        for j in [-1, 0, 1]:\n",
    "            if i == 0 and j == 0:\n",
    "                continue\n",
    "            if x + i not in range(N):\n",
    "                continue\n",
    "            if y + j not in range(N):\n",
    "                continue\n",
    "            result.append((x+i, y+j))\n",
    "    return result\n",
    "\n",
    "assert prob1(sample_in) == 1656\n",
    "assert prob1(my_in) == 1773"
   ]
  },
  {
   "cell_type": "code",
   "execution_count": 35,
   "metadata": {},
   "outputs": [],
   "source": [
    "def prob2(s):\n",
    "    board = get_input(s)\n",
    "    steps = 0\n",
    "    while True:\n",
    "        steps += 1\n",
    "        new_flashes = run_step(board)\n",
    "        if new_flashes == 100:\n",
    "            return steps\n",
    "assert prob2(sample_in) == 195, prob2(sample_in)\n",
    "assert prob2(my_in) == 494"
   ]
  },
  {
   "cell_type": "code",
   "execution_count": null,
   "metadata": {},
   "outputs": [],
   "source": []
  },
  {
   "cell_type": "code",
   "execution_count": null,
   "metadata": {},
   "outputs": [],
   "source": []
  },
  {
   "cell_type": "code",
   "execution_count": null,
   "metadata": {},
   "outputs": [],
   "source": []
  }
 ],
 "metadata": {
  "kernelspec": {
   "display_name": "Python 3",
   "language": "python",
   "name": "python3"
  },
  "language_info": {
   "codemirror_mode": {
    "name": "ipython",
    "version": 3
   },
   "file_extension": ".py",
   "mimetype": "text/x-python",
   "name": "python",
   "nbconvert_exporter": "python",
   "pygments_lexer": "ipython3",
   "version": "3.7.10"
  }
 },
 "nbformat": 4,
 "nbformat_minor": 4
}
