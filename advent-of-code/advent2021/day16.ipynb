{
 "cells": [
  {
   "cell_type": "code",
   "execution_count": 110,
   "metadata": {},
   "outputs": [
    {
     "data": {
      "text/plain": [
       "['D2FE28',\n",
       " '38006F45291200',\n",
       " 'EE00D40C823060',\n",
       " '8A004A801A8002F478',\n",
       " '620080001611562C8802118E34',\n",
       " 'C0015000016115A2E0802F182340',\n",
       " 'A0016C880162017C3686B18A3D4780']"
      ]
     },
     "execution_count": 110,
     "metadata": {},
     "output_type": "execute_result"
    }
   ],
   "source": [
    "samples = [('D2FE28', 6),\n",
    "           ('38006F45291200', 9),\n",
    "           ('EE00D40C823060', 14),\n",
    "           ('8A004A801A8002F478', 16),\n",
    "           ('620080001611562C8802118E34', 12),\n",
    "           ('C0015000016115A2E0802F182340', 23),\n",
    "           ('A0016C880162017C3686B18A3D4780', 31), ]\n",
    "my_in = '2056FA18025A00A4F52AB13FAB6CDA779E1B2012DB003301006A35C7D882200C43289F07A5A192D200C1BC011969BA4A485E63D8FE4CC80480C00D500010F8991E23A8803104A3C425967260020E551DC01D98B5FEF33D5C044C0928053296CDAFCB8D4BDAA611F256DE7B945220080244BE59EE7D0A5D0E6545C0268A7126564732552F003194400B10031C00C002819C00B50034400A70039C009401A114009201500C00B00100D00354300254008200609000D39BB5868C01E9A649C5D9C4A8CC6016CC9B4229F3399629A0C3005E797A5040C016A00DD40010B8E508615000213112294749B8D67EC45F63A980233D8BCF1DC44FAC017914993D42C9000282CB9D4A776233B4BF361F2F9F6659CE5764EB9A3E9007ED3B7B6896C0159F9D1EE76B3FFEF4B8FCF3B88019316E51DA181802B400A8CFCC127E60935D7B10078C01F8B50B20E1803D1FA21C6F300661AC678946008C918E002A72A0F27D82DB802B239A63BAEEA9C6395D98A001A9234EA620026D1AE5CA60A900A4B335A4F815C01A800021B1AE2E4441006A0A47686AE01449CB5534929FF567B9587C6A214C6212ACBF53F9A8E7D3CFF0B136FD061401091719BC5330E5474000D887B24162013CC7EDDCDD8E5E77E53AF128B1276D0F980292DA0CD004A7798EEEC672A7A6008C953F8BD7F781ED00395317AF0726E3402100625F3D9CB18B546E2FC9C65D1C20020E4C36460392F7683004A77DB3DB00527B5A85E06F253442014A00010A8F9106108002190B61E4750004262BC7587E801674EB0CCF1025716A054AD47080467A00B864AD2D4B193E92B4B52C64F27BFB05200C165A38DDF8D5A009C9C2463030802879EB55AB8010396069C413005FC01098EDD0A63B742852402B74DF7FDFE8368037700043E2FC2C8CA00087C518990C0C015C00542726C13936392A4633D8F1802532E5801E84FDF34FCA1487D367EF9A7E50A43E90'\n",
    "\n",
    "hexa_bin = {\n",
    "    '0': '0000',\n",
    "    '1': '0001',\n",
    "    '2': '0010',\n",
    "    '3': '0011',\n",
    "    '4': '0100',\n",
    "    '5': '0101',\n",
    "    '6': '0110',\n",
    "    '7': '0111',\n",
    "    '8': '1000',\n",
    "    '9': '1001',\n",
    "    'A': '1010',\n",
    "    'B': '1011',\n",
    "    'C': '1100',\n",
    "    'D': '1101',\n",
    "    'E': '1110',\n",
    "    'F': '1111',\n",
    "}\n",
    "\n",
    "\n",
    "def get_input(s):\n",
    "    return s.strip()\n",
    "\n",
    "\n",
    "[get_input(s[0]) for s in samples]\n"
   ]
  },
  {
   "cell_type": "code",
   "execution_count": 111,
   "metadata": {},
   "outputs": [
    {
     "name": "stdout",
     "output_type": "stream",
     "text": [
      "D2FE28: 6\n",
      "38006F45291200: 9\n",
      "EE00D40C823060: 14\n",
      "8A004A801A8002F478: 16\n",
      "620080001611562C8802118E34: 12\n",
      "C0015000016115A2E0802F182340: 23\n",
      "A0016C880162017C3686B18A3D4780: 31\n",
      "2056FA18025A00A4F52AB13FAB6CDA779E1B2012DB003301006A35C7D882200C43289F07A5A192D200C1BC011969BA4A485E63D8FE4CC80480C00D500010F8991E23A8803104A3C425967260020E551DC01D98B5FEF33D5C044C0928053296CDAFCB8D4BDAA611F256DE7B945220080244BE59EE7D0A5D0E6545C0268A7126564732552F003194400B10031C00C002819C00B50034400A70039C009401A114009201500C00B00100D00354300254008200609000D39BB5868C01E9A649C5D9C4A8CC6016CC9B4229F3399629A0C3005E797A5040C016A00DD40010B8E508615000213112294749B8D67EC45F63A980233D8BCF1DC44FAC017914993D42C9000282CB9D4A776233B4BF361F2F9F6659CE5764EB9A3E9007ED3B7B6896C0159F9D1EE76B3FFEF4B8FCF3B88019316E51DA181802B400A8CFCC127E60935D7B10078C01F8B50B20E1803D1FA21C6F300661AC678946008C918E002A72A0F27D82DB802B239A63BAEEA9C6395D98A001A9234EA620026D1AE5CA60A900A4B335A4F815C01A800021B1AE2E4441006A0A47686AE01449CB5534929FF567B9587C6A214C6212ACBF53F9A8E7D3CFF0B136FD061401091719BC5330E5474000D887B24162013CC7EDDCDD8E5E77E53AF128B1276D0F980292DA0CD004A7798EEEC672A7A6008C953F8BD7F781ED00395317AF0726E3402100625F3D9CB18B546E2FC9C65D1C20020E4C36460392F7683004A77DB3DB00527B5A85E06F253442014A00010A8F9106108002190B61E4750004262BC7587E801674EB0CCF1025716A054AD47080467A00B864AD2D4B193E92B4B52C64F27BFB05200C165A38DDF8D5A009C9C2463030802879EB55AB8010396069C413005FC01098EDD0A63B742852402B74DF7FDFE8368037700043E2FC2C8CA00087C518990C0C015C00542726C13936392A4633D8F1802532E5801E84FDF34FCA1487D367EF9A7E50A43E90: 917\n"
     ]
    },
    {
     "data": {
      "text/plain": [
       "917"
      ]
     },
     "execution_count": 111,
     "metadata": {},
     "output_type": "execute_result"
    }
   ],
   "source": [
    "def prob1(s):\n",
    "    hexa = get_input(s)\n",
    "    binary = get_binary(hexa)\n",
    "    result = 0\n",
    "    while True:\n",
    "        if len(binary) > 7:\n",
    "            binary, data = read_packet(binary)\n",
    "            padding = len(binary) % 8\n",
    "            binary = binary[padding:]\n",
    "            result += data['version']\n",
    "        else:\n",
    "            break\n",
    "    print(f'{hexa}: {result}')\n",
    "    return result\n",
    "\n",
    "\n",
    "def get_int(sub_bin):\n",
    "    return int(sub_bin, 2)\n",
    "\n",
    "\n",
    "def get_binary(hexa):\n",
    "    result = ''\n",
    "    for h in hexa:\n",
    "        for i in hexa_bin[h]:\n",
    "            result += i\n",
    "    return result\n",
    "\n",
    "\n",
    "def read_packet(binary):\n",
    "    version = get_int(binary[:3])\n",
    "    ptype = get_int(binary[3:6])\n",
    "    if ptype == 4:\n",
    "        new_binary, data = read_data(binary[6:])\n",
    "    else:\n",
    "        new_binary, data = read_operator(binary[6:])\n",
    "        if 'version' in data:\n",
    "            version += data['version']\n",
    "    data['version'] = version\n",
    "    data['type'] = ptype\n",
    "    return new_binary, data\n",
    "\n",
    "\n",
    "def read_data(binary):\n",
    "    new_binary = binary\n",
    "    result_data = {'content': []}\n",
    "    while True:\n",
    "        new_binary, data = read_data_chunk(new_binary)\n",
    "        result_data['content'].append(data['data'])\n",
    "        if data['finished']:\n",
    "            break\n",
    "    return new_binary, result_data\n",
    "\n",
    "\n",
    "def read_data_chunk(new_binary):\n",
    "    data = {\n",
    "        'finished': new_binary[0] == '0',\n",
    "        'data': new_binary[1:5]\n",
    "    }\n",
    "    # print(f'in read_chunk {new_binary} - {data}')\n",
    "    return new_binary[5:], data\n",
    "\n",
    "\n",
    "def read_operator(binary):\n",
    "    if binary[0] == '0':\n",
    "        new_binary, data = read_fixed_length(binary[1:])\n",
    "    else:\n",
    "        new_binary, data = read_num_packs(binary[1:])\n",
    "    return new_binary, data\n",
    "\n",
    "\n",
    "def read_fixed_length(binary):\n",
    "    length = get_int(binary[:15])\n",
    "    data = {'length': length, 'version': 0, 'content': []}\n",
    "    new_binary = binary[length + 15:]\n",
    "    our_binary = binary[15:length + 15]\n",
    "    while our_binary:\n",
    "        our_binary, data_pack = read_packet(our_binary)\n",
    "        data['version'] += data_pack['version']\n",
    "        data['content'].append(data_pack)\n",
    "    return new_binary, data\n",
    "\n",
    "\n",
    "def read_num_packs(binary):\n",
    "    length = get_int(binary[:11])\n",
    "    data = {\n",
    "        'num_packages': length,\n",
    "        'version': 0,\n",
    "        'content': [],\n",
    "    }\n",
    "    new_binary = binary[11:]\n",
    "    for i in range(length):\n",
    "        new_binary, data_pack = read_packet(new_binary)\n",
    "        data['version'] += data_pack['version']\n",
    "        data['content'].append(data_pack)\n",
    "    return new_binary, data\n",
    "\n",
    "\n",
    "for sample in samples:\n",
    "    test = prob1(sample[0])\n",
    "    assert test == sample[1], f'Got {test}, expected {sample[1]}'\n",
    "prob1(my_in)\n"
   ]
  },
  {
   "cell_type": "code",
   "execution_count": 112,
   "metadata": {},
   "outputs": [],
   "source": [
    "samples2 = {\n",
    "    'D2FE28': 2021,\n",
    "    'C200B40A82': 3,  # finds the sum of 1 and 2, resulting in the value 3.\n",
    "    # finds the product of 6 and 9, resulting in the value 54.\n",
    "    '04005AC33890': 54,\n",
    "    # finds the minimum of 7, 8, and 9, resulting in the value 7.\n",
    "    '880086C3E88112': 7,\n",
    "    # finds the maximum of 7, 8, and 9, resulting in the value 9.\n",
    "    'CE00C43D881120': 9,\n",
    "    'D8005AC2A8F0': 1,  # produces 1, because 5 is less than 15.\n",
    "    'F600BC2D8F': 0,  # produces 0, because 5 is not greater than 15.\n",
    "    '9C005AC2F8F0': 0,  # produces 0, because 5 is not equal to 15.\n",
    "    '9C0141080250320F1802104A08': 1,  # produces 1, because 1 + 3 = 2 * 2.\n",
    "}\n"
   ]
  },
  {
   "cell_type": "code",
   "execution_count": 113,
   "metadata": {},
   "outputs": [
    {
     "name": "stdout",
     "output_type": "stream",
     "text": [
      "D2FE28: 2021\n",
      "C200B40A82: 3\n",
      "04005AC33890: 54\n",
      "880086C3E88112: 7\n",
      "CE00C43D881120: 9\n",
      "D8005AC2A8F0: 1\n",
      "F600BC2D8F: 0\n",
      "9C005AC2F8F0: 0\n",
      "9C0141080250320F1802104A08: 1\n"
     ]
    }
   ],
   "source": [
    "def prob2(s):\n",
    "    hexa = get_input(s)\n",
    "    binary = get_binary(hexa)\n",
    "    parsed_data = []\n",
    "    while True:\n",
    "        if len(binary) > 7:\n",
    "            binary, data = read_packet(binary)\n",
    "            padding = len(binary) % 8\n",
    "            binary = binary[padding:]\n",
    "            parsed_data.append(data)\n",
    "        else:\n",
    "            break\n",
    "    result = apply_instructions(parsed_data)[0]\n",
    "    print(f'{hexa}: {result}')\n",
    "    return result\n",
    "\n",
    "\n",
    "def apply_instructions(instructions):\n",
    "    result = []\n",
    "    for instr in instructions:\n",
    "        _t = instr['type']\n",
    "        if _t == 4:\n",
    "            data = ''\n",
    "            for b in instr['content']:\n",
    "                data += b\n",
    "            result.append(int(data, 2))\n",
    "            continue\n",
    "        operands = apply_instructions(instr['content'])\n",
    "        if _t == 0:\n",
    "            result.append(sum(operands))\n",
    "        elif _t == 1:\n",
    "            result.append(product(operands))\n",
    "        elif _t == 2:\n",
    "            result.append(min(operands))\n",
    "        elif _t == 3:\n",
    "            result.append(max(operands))\n",
    "        elif _t == 5:\n",
    "            result.append(greater_than(operands))\n",
    "        elif _t == 6:\n",
    "            result.append(less_than(operands))\n",
    "        elif _t == 7:\n",
    "            result.append(equal_to(operands))\n",
    "        else:\n",
    "            assert False, instr\n",
    "    return result\n",
    "\n",
    "\n",
    "def product(operands):\n",
    "    result = 1\n",
    "    for op in operands:\n",
    "        result *= op\n",
    "    return result\n",
    "\n",
    "\n",
    "def less_than(operands):\n",
    "    return 1 if operands[0] < operands[1] else 0\n",
    "\n",
    "\n",
    "def greater_than(operands):\n",
    "    return 1 if operands[0] > operands[1] else 0\n",
    "\n",
    "\n",
    "def equal_to(operands):\n",
    "    return 1 if operands[0] == operands[1] else 0\n",
    "\n",
    "\n",
    "for sample, expected in samples2.items():\n",
    "    test = prob2(sample)\n",
    "    assert test == expected, f'{sample}: Got {test}, expected {expected}'\n"
   ]
  },
  {
   "cell_type": "code",
   "execution_count": 114,
   "metadata": {},
   "outputs": [
    {
     "name": "stdout",
     "output_type": "stream",
     "text": [
      "2056FA18025A00A4F52AB13FAB6CDA779E1B2012DB003301006A35C7D882200C43289F07A5A192D200C1BC011969BA4A485E63D8FE4CC80480C00D500010F8991E23A8803104A3C425967260020E551DC01D98B5FEF33D5C044C0928053296CDAFCB8D4BDAA611F256DE7B945220080244BE59EE7D0A5D0E6545C0268A7126564732552F003194400B10031C00C002819C00B50034400A70039C009401A114009201500C00B00100D00354300254008200609000D39BB5868C01E9A649C5D9C4A8CC6016CC9B4229F3399629A0C3005E797A5040C016A00DD40010B8E508615000213112294749B8D67EC45F63A980233D8BCF1DC44FAC017914993D42C9000282CB9D4A776233B4BF361F2F9F6659CE5764EB9A3E9007ED3B7B6896C0159F9D1EE76B3FFEF4B8FCF3B88019316E51DA181802B400A8CFCC127E60935D7B10078C01F8B50B20E1803D1FA21C6F300661AC678946008C918E002A72A0F27D82DB802B239A63BAEEA9C6395D98A001A9234EA620026D1AE5CA60A900A4B335A4F815C01A800021B1AE2E4441006A0A47686AE01449CB5534929FF567B9587C6A214C6212ACBF53F9A8E7D3CFF0B136FD061401091719BC5330E5474000D887B24162013CC7EDDCDD8E5E77E53AF128B1276D0F980292DA0CD004A7798EEEC672A7A6008C953F8BD7F781ED00395317AF0726E3402100625F3D9CB18B546E2FC9C65D1C20020E4C36460392F7683004A77DB3DB00527B5A85E06F253442014A00010A8F9106108002190B61E4750004262BC7587E801674EB0CCF1025716A054AD47080467A00B864AD2D4B193E92B4B52C64F27BFB05200C165A38DDF8D5A009C9C2463030802879EB55AB8010396069C413005FC01098EDD0A63B742852402B74DF7FDFE8368037700043E2FC2C8CA00087C518990C0C015C00542726C13936392A4633D8F1802532E5801E84FDF34FCA1487D367EF9A7E50A43E90: 2536453523344\n"
     ]
    },
    {
     "data": {
      "text/plain": [
       "2536453523344"
      ]
     },
     "execution_count": 114,
     "metadata": {},
     "output_type": "execute_result"
    }
   ],
   "source": [
    "prob2(my_in)\n"
   ]
  },
  {
   "cell_type": "code",
   "execution_count": 115,
   "metadata": {},
   "outputs": [
    {
     "name": "stdout",
     "output_type": "stream",
     "text": [
      "D2FE28: 2021\n",
      "38006F45291200: 1\n",
      "EE00D40C823060: 3\n",
      "8A004A801A8002F478: 15\n",
      "620080001611562C8802118E34: 46\n",
      "C0015000016115A2E0802F182340: 46\n",
      "A0016C880162017C3686B18A3D4780: 54\n"
     ]
    }
   ],
   "source": [
    "for s in samples:\n",
    "    prob2(s[0]) "
   ]
  },
  {
   "cell_type": "code",
   "execution_count": null,
   "metadata": {},
   "outputs": [],
   "source": []
  }
 ],
 "metadata": {
  "kernelspec": {
   "display_name": "Python 3",
   "language": "python",
   "name": "python3"
  },
  "language_info": {
   "codemirror_mode": {
    "name": "ipython",
    "version": 3
   },
   "file_extension": ".py",
   "mimetype": "text/x-python",
   "name": "python",
   "nbconvert_exporter": "python",
   "pygments_lexer": "ipython3",
   "version": "3.7.12"
  }
 },
 "nbformat": 4,
 "nbformat_minor": 4
}
